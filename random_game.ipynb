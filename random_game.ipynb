{
 "cells": [
  {
   "cell_type": "code",
   "execution_count": 3,
   "metadata": {},
   "outputs": [
    {
     "name": "stdout",
     "output_type": "stream",
     "text": [
      "Enter a number between 20 and 30: 20\n",
      "Too low. Trial was: 1\n",
      "Guess again: 21\n",
      "Too low. Trial was: 2\n",
      "Guess again: 22\n",
      "Too low. Trial was: 3\n",
      "Guess again: 23\n",
      "Too low. Trial was: 4\n",
      "Guess again: 24\n",
      "Too low. Trial was: 5\n",
      "Guess again: 25\n",
      "Too low. Trial was: 6\n",
      "Guess again: 26\n",
      "Too low. Trial was: 7\n",
      "Guess again: 27\n",
      "You win!!! And your trial: 8 times.\n"
     ]
    }
   ],
   "source": [
    "import random\n",
    "\n",
    "winning_number = random.randint(20,30)\n",
    "guess = 1\n",
    "guess_number = int(input('Enter a number between 20 and 30: '))\n",
    "\n",
    "game_over = False\n",
    "\n",
    "while not game_over:\n",
    "    # win\n",
    "    if guess_number == winning_number:\n",
    "        print(f'You win!!! And your trial: {guess} times.')\n",
    "        game_over = True\n",
    "    # wrong guess\n",
    "    else:\n",
    "        # too low\n",
    "        if guess_number < winning_number:\n",
    "            print(f'Too low. Trial was: {guess}')\n",
    "            \n",
    "        # too high\n",
    "        else:\n",
    "            print(f'Too high. Trial was: {guess}')\n",
    "            \n",
    "        guess += 1\n",
    "        guess_number = int(input('Guess again: '))"
   ]
  },
  {
   "cell_type": "code",
   "execution_count": null,
   "metadata": {},
   "outputs": [],
   "source": []
  }
 ],
 "metadata": {
  "kernelspec": {
   "display_name": "Python 3",
   "language": "python",
   "name": "python3"
  },
  "language_info": {
   "codemirror_mode": {
    "name": "ipython",
    "version": 3
   },
   "file_extension": ".py",
   "mimetype": "text/x-python",
   "name": "python",
   "nbconvert_exporter": "python",
   "pygments_lexer": "ipython3",
   "version": "3.7.6"
  }
 },
 "nbformat": 4,
 "nbformat_minor": 4
}
