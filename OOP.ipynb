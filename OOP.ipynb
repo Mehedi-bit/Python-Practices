{
 "cells": [
  {
   "cell_type": "code",
   "execution_count": 1,
   "metadata": {},
   "outputs": [
    {
     "name": "stdout",
     "output_type": "stream",
     "text": [
      "Mehedi\n",
      "Efad\n",
      "Mehedi Hasan\n",
      "False\n"
     ]
    }
   ],
   "source": [
    "class Person:\n",
    "    def __init__(self, first_name,last_name,age):\n",
    "        # Instance variables\n",
    "        self.first_name = first_name\n",
    "        self.last_name = last_name\n",
    "        self.age = age\n",
    "\n",
    "    # Methods    \n",
    "    def full_name(self):\n",
    "        return f\"{self.first_name} {self.last_name}\"\n",
    "    \n",
    "    def is_above_18(self):\n",
    "        return self.age>18\n",
    "\n",
    "        \n",
    "p1 = Person('Mehedi','Hasan',21)\n",
    "p2 = Person('Md','Efad',11)\n",
    "\n",
    "print(p1.first_name)\n",
    "print(p2.last_name)\n",
    "\n",
    "print(p1.full_name())\n",
    "\n",
    "print(p2.is_above_18())\n"
   ]
  },
  {
   "cell_type": "code",
   "execution_count": 2,
   "metadata": {},
   "outputs": [
    {
     "name": "stdout",
     "output_type": "stream",
     "text": [
      "Mehedi\n",
      "6 feet\n",
      "Efad\n",
      "4 feet\n",
      "False\n",
      "Md. Mehedi Hasan Emon\n"
     ]
    }
   ],
   "source": [
    "class Person:\n",
    "    def __init__(self, name, age, height):\n",
    "        self.name = name\n",
    "        self.age = age\n",
    "        self.ht = height\n",
    "\n",
    "    \n",
    "    def is_above_18(self):\n",
    "        return self.age>18\n",
    "    \n",
    "    # update the name\n",
    "    def set_name(self, new_name):\n",
    "        self.name = new_name\n",
    "\n",
    "        \n",
    "p1 = Person('Mehedi',21, '6 feet')\n",
    "p2 = Person('Efad',11, '4 feet')\n",
    "\n",
    "print(p1.name)\n",
    "print(p1.ht)\n",
    "\n",
    "print(p2.name)\n",
    "print(p2.ht)\n",
    "\n",
    "print(p2.is_above_18())\n",
    "\n",
    "# Updating the name\n",
    "p1.set_name('Md. Mehedi Hasan Emon')\n",
    "print(p1.name)"
   ]
  },
  {
   "cell_type": "code",
   "execution_count": null,
   "metadata": {},
   "outputs": [],
   "source": []
  },
  {
   "cell_type": "code",
   "execution_count": 3,
   "metadata": {},
   "outputs": [
    {
     "name": "stdout",
     "output_type": "stream",
     "text": [
      "Price: 56700.0 (after discount)\n",
      "Price: 75650.0 (after discount)\n"
     ]
    }
   ],
   "source": [
    "class Laptop:\n",
    "    def __init__(self, brand, model, price):\n",
    "        self.brand_name = brand\n",
    "        self.model_name = model\n",
    "        self.price = price\n",
    "        self.laptop_name = brand + ' ' + model\n",
    "        \n",
    "    def apply_discount(self, off):\n",
    "        self.price = (self.price - self.price*(off/100))\n",
    "        return f'Price: {self.price} (after discount)'\n",
    "    \n",
    "laptop1 = Laptop('HP', 'Elitebook', 63000)\n",
    "laptop2 = Laptop('Apple','MacBook Air',89000)\n",
    "\n",
    "print(laptop1.apply_discount(10))\n",
    "\n",
    "print(laptop2.apply_discount(15))"
   ]
  },
  {
   "cell_type": "code",
   "execution_count": 4,
   "metadata": {},
   "outputs": [
    {
     "name": "stdout",
     "output_type": "stream",
     "text": [
      "25.1328\n"
     ]
    }
   ],
   "source": [
    "## class variable\n",
    "# circle\n",
    "# area\n",
    "# circumference\n",
    "\n",
    "class Circle:\n",
    "    def __init__(self, radius, pi):\n",
    "        self.radius = radius\n",
    "        self.pi = pi\n",
    "    def calculate_curcumference(self):\n",
    "        return 2*self.pi*self.radius\n",
    "    \n",
    "c1 = Circle(4, 3.1416)\n",
    "c2 = Circle(5, 3.1416)\n",
    "\n",
    "print(c1.calculate_curcumference())"
   ]
  },
  {
   "cell_type": "code",
   "execution_count": 7,
   "metadata": {},
   "outputs": [
    {
     "name": "stdout",
     "output_type": "stream",
     "text": [
      "25.1328\n",
      "২য় ৃত্তের পরিধি 31.416\n"
     ]
    }
   ],
   "source": [
    "# circle\n",
    "# area\n",
    "# circumference\n",
    "\n",
    "class Circle:\n",
    "    pi = 3.1416\n",
    "    def __init__(self, radius):\n",
    "        self.radius = radius\n",
    "        \n",
    "    def calculate_curcumference(self):\n",
    "        return 2*Circle.pi*self.radius\n",
    "    \n",
    "c1 = Circle(4)\n",
    "c2 = Circle(5)\n",
    "\n",
    "print(c1.calculate_curcumference())\n",
    "print(f'২য় ৃত্তের পরিধি {c2.calculate_curcumference()}')"
   ]
  },
  {
   "cell_type": "code",
   "execution_count": null,
   "metadata": {},
   "outputs": [],
   "source": []
  },
  {
   "cell_type": "code",
   "execution_count": 14,
   "metadata": {},
   "outputs": [
    {
     "name": "stdout",
     "output_type": "stream",
     "text": [
      "Price: 56700.0 (after discount)\n",
      "Price: 80100.0 (after discount)\n"
     ]
    }
   ],
   "source": [
    "## class variable\n",
    "# circle\n",
    "# area\n",
    "# circumference\n",
    "\n",
    "# *** IF ALL LAPTOP HAS 10% DISCOUINT\n",
    "\n",
    "class Laptop:\n",
    "    discount_rate = 10\n",
    "    def __init__(self, brand, model, price):\n",
    "        self.brand_name = brand\n",
    "        self.model_name = model\n",
    "        self.price = price\n",
    "        self.laptop_name = brand + ' ' + model\n",
    "        \n",
    "    def apply_discount(self):\n",
    "        self.price = (self.price - self.price*(Laptop.discount_rate/100))\n",
    "        return f'Price: {self.price} (after discount)'\n",
    "    \n",
    "laptop1 = Laptop('HP', 'Elitebook', 63000)\n",
    "laptop2 = Laptop('Apple','MacBook Air',89000)\n",
    "\n",
    "print(laptop1.apply_discount())\n",
    "\n",
    "print(laptop2.apply_discount())"
   ]
  },
  {
   "cell_type": "code",
   "execution_count": null,
   "metadata": {},
   "outputs": [],
   "source": []
  },
  {
   "cell_type": "code",
   "execution_count": 4,
   "metadata": {},
   "outputs": [
    {
     "name": "stdout",
     "output_type": "stream",
     "text": [
      "1\n"
     ]
    }
   ],
   "source": [
    "class Person:\n",
    "    count_object = 0\n",
    "    def __init__(self,name,age,height):\n",
    "        Person.count_object += 1\n",
    "        self.name = name\n",
    "        self.age = age\n",
    "        self.height = height\n",
    "\n",
    "# instance/objects\n",
    "p1 = Person('Emon',21,153)\n",
    "\n",
    "print(Person.count_object)"
   ]
  },
  {
   "cell_type": "code",
   "execution_count": null,
   "metadata": {},
   "outputs": [],
   "source": []
  },
  {
   "cell_type": "code",
   "execution_count": 20,
   "metadata": {},
   "outputs": [
    {
     "name": "stdout",
     "output_type": "stream",
     "text": [
      "You have created 5 instances of Person\n"
     ]
    }
   ],
   "source": [
    "# CLASS METHOD\n",
    "\n",
    "class Person:\n",
    "    count_instance = 0\n",
    "    def __init__(self, name ,age):\n",
    "        Person.count_instance += 1\n",
    "        self.name = name\n",
    "        self.age = age\n",
    "    # class method\n",
    "    @classmethod\n",
    "    def instance_counter(cls):\n",
    "        return f'You have created {cls.count_instance} instances of {cls.__name__}'\n",
    "    \n",
    "p1 = Person('Emon',21)\n",
    "p2 = Person('Emon',21)\n",
    "p3 = Person('Emon',21)\n",
    "p4 = Person('Emon',21)\n",
    "p5 = Person('Emon',21)\n",
    "    \n",
    "    \n",
    "print(Person.instance_counter())"
   ]
  },
  {
   "cell_type": "code",
   "execution_count": null,
   "metadata": {},
   "outputs": [],
   "source": []
  },
  {
   "cell_type": "markdown",
   "metadata": {},
   "source": [
    "# Class method as constructor"
   ]
  },
  {
   "cell_type": "code",
   "execution_count": 21,
   "metadata": {},
   "outputs": [
    {
     "name": "stdout",
     "output_type": "stream",
     "text": [
      "Md.Mehedi Hasan\n"
     ]
    }
   ],
   "source": [
    "class Person:\n",
    "    def __init__(self, first_name,last_name,age):\n",
    "        # Instance variables\n",
    "        self.first_name = first_name\n",
    "        self.last_name = last_name\n",
    "        self.age = age\n",
    "        \n",
    "    @classmethod\n",
    "    def from_string(cls, string):\n",
    "        first,last,age = string.split(',')\n",
    "        return cls(first,last,age)\n",
    "        \n",
    "    @classmethod\n",
    "    def instance_counter(cls):\n",
    "        return f'You have created {cls.count_instance} instances of {cls.__name__}'\n",
    "    \n",
    "\n",
    "    # Instance Methods    \n",
    "    def full_name(self):\n",
    "        return f\"{self.first_name} {self.last_name}\"\n",
    "    \n",
    "    # Instance method\n",
    "    def is_above_18(self):\n",
    "        return self.age>18\n",
    "\n",
    "        \n",
    "p1 = Person('Mehedi','Hasan',21)\n",
    "p2 = Person('Md','Efad',11)\n",
    "\n",
    "p3 = Person.from_string('Md.Mehedi,Hasan,21')\n",
    "print(p3.full_name())"
   ]
  },
  {
   "cell_type": "code",
   "execution_count": null,
   "metadata": {},
   "outputs": [],
   "source": []
  },
  {
   "cell_type": "markdown",
   "metadata": {},
   "source": [
    "# Static method"
   ]
  },
  {
   "cell_type": "code",
   "execution_count": 25,
   "metadata": {},
   "outputs": [
    {
     "name": "stdout",
     "output_type": "stream",
     "text": [
      "Hello, static method called\n"
     ]
    }
   ],
   "source": [
    "class Person:\n",
    "    def __init__(self, first_name,last_name,age):\n",
    "        # Instance variables\n",
    "        self.first_name = first_name\n",
    "        self.last_name = last_name\n",
    "        self.age = age\n",
    "        \n",
    "    @classmethod\n",
    "    def from_string(cls, string):\n",
    "        first,last,age = string.split(',')\n",
    "        return cls(first,last,age)\n",
    "        \n",
    "    @classmethod\n",
    "    def instance_counter(cls):\n",
    "        return f'You have created {cls.count_instance} instances of {cls.__name__}'\n",
    "    \n",
    "    @staticmethod\n",
    "    def hello():\n",
    "        return ('Hello, static method called')\n",
    "\n",
    "    # Instance Methods    \n",
    "    def full_name(self):\n",
    "        return f\"{self.first_name} {self.last_name}\"\n",
    "    \n",
    "    # Instance method\n",
    "    def is_above_18(self):\n",
    "        return self.age>18\n",
    "\n",
    "        \n",
    "p1 = Person('Mehedi','Hasan',21)\n",
    "p2 = Person('Md','Efad',11)\n",
    "\n",
    "\n",
    "print(p1.hello())"
   ]
  },
  {
   "cell_type": "code",
   "execution_count": null,
   "metadata": {},
   "outputs": [],
   "source": []
  },
  {
   "cell_type": "markdown",
   "metadata": {},
   "source": [
    "# Encapsulation"
   ]
  },
  {
   "cell_type": "code",
   "execution_count": 1,
   "metadata": {},
   "outputs": [],
   "source": [
    "class Phone:\n",
    "    def __init__(self,brand,model,price):\n",
    "        self.brand = brand\n",
    "        self.model = model\n",
    "        self.price = price\n",
    "        \n",
    "    def make_a_call(self,phone_number):\n",
    "        print('calling {}'.format(phone_number))\n",
    "        \n",
    "    def full_name(self):\n",
    "        return '{} {}'.format(self.brand , self.model)\n",
    "    \n",
    "    "
   ]
  },
  {
   "cell_type": "markdown",
   "metadata": {},
   "source": [
    "# Abstraction (hiding complexity from user)"
   ]
  },
  {
   "cell_type": "code",
   "execution_count": 3,
   "metadata": {},
   "outputs": [
    {
     "name": "stdout",
     "output_type": "stream",
     "text": [
      "[1, 2, 3, 4]\n"
     ]
    }
   ],
   "source": [
    "class Phone:\n",
    "    def __init__(self,brand,model,price):\n",
    "        self.brand = brand\n",
    "        self.model = model\n",
    "        self.price = price\n",
    "        \n",
    "    def make_a_call(self,phone_number):\n",
    "        print('calling {}'.format(phone_number))\n",
    "        \n",
    "    def full_name(self):\n",
    "        return '{} {}'.format(self.brand , self.model)\n",
    "    \n",
    "    def send_message(self):\n",
    "        pass\n",
    "    \n",
    "l = [3,4,1,2]\n",
    "l.sort() # for example, for sorting 'tim sort' algorithm is used and many many methods have to be used. it is complex. but user cant see it. user just use sort() but can't see such complex things. This means --> Abstraction\n",
    "\n",
    "print(l)"
   ]
  },
  {
   "cell_type": "code",
   "execution_count": null,
   "metadata": {},
   "outputs": [],
   "source": []
  },
  {
   "cell_type": "markdown",
   "metadata": {},
   "source": [
    "# Some special naming convension (eg. making private name/ convension of private name)"
   ]
  },
  {
   "cell_type": "code",
   "execution_count": 4,
   "metadata": {},
   "outputs": [
    {
     "name": "stdout",
     "output_type": "stream",
     "text": [
      "1000\n"
     ]
    }
   ],
   "source": [
    "# _name # convension of private name\n",
    "\n",
    "class Phone:\n",
    "    def __init__(self,brand,model,price):\n",
    "        self.brand = brand\n",
    "        self.model = model\n",
    "        self._price = price\n",
    "        \n",
    "    def make_a_call(self,phone_number):\n",
    "        print('calling {}'.format(phone_number))\n",
    "        \n",
    "    def full_name(self):\n",
    "        return '{} {}'.format(self.brand , self.model)\n",
    "    \n",
    "    def send_message(self):\n",
    "        pass\n",
    "    \n",
    "phone1 = Phone('Nokia','1100',1000)\n",
    "print(phone1._price)"
   ]
  },
  {
   "cell_type": "markdown",
   "metadata": {},
   "source": [
    "# name mangling\n",
    "\n",
    "# __name \n",
    "\n",
    "\n",
    "\n",
    "      error is important here. if you give __price name, then python will change '__phone' to--->>  '_Phone__price'.\n",
    "      this way python will private it. but you can still acess but by '_Phone__price' this name instead of '__price'"
   ]
  },
  {
   "cell_type": "code",
   "execution_count": 11,
   "metadata": {},
   "outputs": [
    {
     "ename": "AttributeError",
     "evalue": "'Phone' object has no attribute '__price'",
     "output_type": "error",
     "traceback": [
      "\u001b[1;31m---------------------------------------------------------------------------\u001b[0m",
      "\u001b[1;31mAttributeError\u001b[0m                            Traceback (most recent call last)",
      "\u001b[1;32m<ipython-input-11-4b2d96b38470>\u001b[0m in \u001b[0;36m<module>\u001b[1;34m\u001b[0m\n\u001b[0;32m     16\u001b[0m \u001b[0mphone1\u001b[0m \u001b[1;33m=\u001b[0m \u001b[0mPhone\u001b[0m\u001b[1;33m(\u001b[0m\u001b[1;34m'Nokia'\u001b[0m\u001b[1;33m,\u001b[0m\u001b[1;34m'1100'\u001b[0m\u001b[1;33m,\u001b[0m\u001b[1;36m1000\u001b[0m\u001b[1;33m)\u001b[0m\u001b[1;33m\u001b[0m\u001b[1;33m\u001b[0m\u001b[0m\n\u001b[0;32m     17\u001b[0m \u001b[1;33m\u001b[0m\u001b[0m\n\u001b[1;32m---> 18\u001b[1;33m \u001b[0mprint\u001b[0m\u001b[1;33m(\u001b[0m\u001b[0mphone1\u001b[0m\u001b[1;33m.\u001b[0m\u001b[0m__price\u001b[0m\u001b[1;33m)\u001b[0m   \u001b[1;31m# ***important error\u001b[0m\u001b[1;33m\u001b[0m\u001b[1;33m\u001b[0m\u001b[0m\n\u001b[0m",
      "\u001b[1;31mAttributeError\u001b[0m: 'Phone' object has no attribute '__price'"
     ]
    }
   ],
   "source": [
    "class Phone:\n",
    "    def __init__(self,brand,model,price):\n",
    "        self.brand = brand\n",
    "        self.model = model\n",
    "        self.__price = price\n",
    "        \n",
    "    def make_a_call(self,phone_number):\n",
    "        print('calling {}'.format(phone_number))\n",
    "        \n",
    "    def full_name(self):\n",
    "        return '{} {}'.format(self.brand , self.model)\n",
    "    \n",
    "    def send_message(self):\n",
    "        pass\n",
    "    \n",
    "phone1 = Phone('Nokia','1100',1000)\n",
    "\n",
    "print(phone1.__price)   # ***important error"
   ]
  },
  {
   "cell_type": "code",
   "execution_count": 12,
   "metadata": {},
   "outputs": [
    {
     "name": "stdout",
     "output_type": "stream",
     "text": [
      "{'brand': 'Nokia', 'model': '1100', '_Phone__price': 1000}\n"
     ]
    }
   ],
   "source": [
    "print(phone1.__dict__)"
   ]
  },
  {
   "cell_type": "code",
   "execution_count": 13,
   "metadata": {},
   "outputs": [
    {
     "name": "stdout",
     "output_type": "stream",
     "text": [
      "1000\n"
     ]
    }
   ],
   "source": [
    "print(phone1._Phone__price)"
   ]
  },
  {
   "cell_type": "code",
   "execution_count": 14,
   "metadata": {},
   "outputs": [
    {
     "name": "stdout",
     "output_type": "stream",
     "text": [
      "-1000\n"
     ]
    }
   ],
   "source": [
    "phone1._Phone__price = -1000\n",
    "print(phone1._Phone__price)"
   ]
  },
  {
   "cell_type": "code",
   "execution_count": null,
   "metadata": {},
   "outputs": [],
   "source": []
  },
  {
   "cell_type": "markdown",
   "metadata": {},
   "source": [
    "# OOP Property and setter decorator"
   ]
  },
  {
   "cell_type": "code",
   "execution_count": 28,
   "metadata": {},
   "outputs": [
    {
     "name": "stdout",
     "output_type": "stream",
     "text": [
      "Nokia\n",
      "1100\n",
      "1000\n",
      "500\n",
      "Nokia 1100 and price is 1000\n"
     ]
    }
   ],
   "source": [
    "class Phone:\n",
    "    def __init__(self,brand,model,price):\n",
    "        self.brand = brand\n",
    "        self.model = model\n",
    "        self._price = max(price,0)\n",
    "        self.complete_specification = f'{self.brand} {self.model} and price is {self._price}'\n",
    "        \n",
    "    def make_a_call(self,phone_number):\n",
    "        print('calling {}...'.format(phone_number))\n",
    "        \n",
    "    def full_name(self):\n",
    "        return '{} {}'.format(self.brand , self.model)\n",
    "    \n",
    "    def send_message(self):\n",
    "        pass\n",
    "    \n",
    "phone1 = Phone('Nokia','1100',1000)\n",
    "\n",
    "print(phone1.brand)\n",
    "print(phone1.model)\n",
    "print(phone1._price)\n",
    "phone1._price = 500\n",
    "print(phone1._price)\n",
    "print(phone1.complete_specification) # price is not changed in complete_specification"
   ]
  },
  {
   "cell_type": "code",
   "execution_count": 30,
   "metadata": {},
   "outputs": [
    {
     "name": "stdout",
     "output_type": "stream",
     "text": [
      "Nokia\n",
      "1100\n",
      "1000\n",
      "500\n",
      "Nokia 1100 and price is 500\n"
     ]
    }
   ],
   "source": [
    "class Phone:\n",
    "    def __init__(self,brand,model,price):\n",
    "        self.brand = brand\n",
    "        self.model = model\n",
    "        self._price = max(price,0)\n",
    "#         self.complete_specification = f'{self.brand} {self.model} and price is {self._price}'\n",
    "    \n",
    "    def complete_specification(self):\n",
    "        return f'{self.brand} {self.model} and price is {self._price}'\n",
    "    \n",
    "    def make_a_call(self,phone_number):\n",
    "        print('calling {}...'.format(phone_number))\n",
    "        \n",
    "    def full_name(self):\n",
    "        return '{} {}'.format(self.brand , self.model)\n",
    "    \n",
    "    def send_message(self):\n",
    "        pass\n",
    "    \n",
    "phone1 = Phone('Nokia','1100',1000)\n",
    "\n",
    "print(phone1.brand)\n",
    "print(phone1.model)\n",
    "print(phone1._price)\n",
    "phone1._price = 500\n",
    "print(phone1._price)\n",
    "print(phone1.complete_specification()) # price is not changed in complete_specification"
   ]
  },
  {
   "cell_type": "code",
   "execution_count": 48,
   "metadata": {},
   "outputs": [
    {
     "name": "stdout",
     "output_type": "stream",
     "text": [
      "Nokia\n",
      "1100\n",
      "1000\n",
      "0\n",
      "Nokia 1100 and price is 0\n"
     ]
    }
   ],
   "source": [
    "# property decorator\n",
    "\n",
    "class Phone:\n",
    "    def __init__(self,brand,model,price):\n",
    "        self.brand = brand\n",
    "        self.model = model\n",
    "        self._price = max(price,0)\n",
    "    @property\n",
    "    def complete_specification(self):\n",
    "        return f'{self.brand} {self.model} and price is {self._price}'\n",
    "    \n",
    "    # getter() , setter()\n",
    "    \n",
    "    @property\n",
    "    def price(self):\n",
    "        return self._price\n",
    "    \n",
    "    @price.setter\n",
    "    def price(self,new_price):\n",
    "        self._price = max(new_price,0)\n",
    "    \n",
    "    def make_a_call(self,phone_number):\n",
    "        print('calling {}...'.format(phone_number))\n",
    "        \n",
    "    def full_name(self):\n",
    "        return '{} {}'.format(self.brand , self.model)\n",
    "    \n",
    "    def send_message(self):\n",
    "        pass\n",
    "    \n",
    "phone1 = Phone('Nokia','1100', 1000)\n",
    "\n",
    "print(phone1.brand)\n",
    "print(phone1.model)\n",
    "print(phone1._price)\n",
    "phone1.price = -500\n",
    "print(phone1._price)\n",
    "print(phone1.complete_specification) # now doesn't need to call it as a function/method. now we will call it as a argument"
   ]
  },
  {
   "cell_type": "code",
   "execution_count": null,
   "metadata": {},
   "outputs": [],
   "source": []
  },
  {
   "cell_type": "markdown",
   "metadata": {},
   "source": [
    "# inheritance"
   ]
  },
  {
   "cell_type": "code",
   "execution_count": 51,
   "metadata": {},
   "outputs": [
    {
     "name": "stdout",
     "output_type": "stream",
     "text": [
      "nokia 1100\n",
      "Samsung Galaxy A20\n"
     ]
    }
   ],
   "source": [
    "class Phone:\n",
    "    def __init__(self,brand,model,price):\n",
    "        self.brand = brand\n",
    "        self.model = model\n",
    "        self.price = price\n",
    "        \n",
    "    def make_a_call(self,phone_number):\n",
    "        print('calling {}'.format(phone_number))\n",
    "        \n",
    "    def full_name(self):\n",
    "        return '{} {}'.format(self.brand , self.model)\n",
    "    \n",
    "class Smartphone:\n",
    "    def __init__(self,brand,model,price  ,ram,internal_momory,rear_camera):\n",
    "        self.brand = brand\n",
    "        self.model = model\n",
    "        self.price = price\n",
    "        self.ram = ram\n",
    "        self.internal_momory = internal_momory\n",
    "        self.rear_camera = rear_camera\n",
    "        \n",
    "    def make_a_call(self,phone_number):\n",
    "        print('calling {}'.format(phone_number))\n",
    "        \n",
    "    def full_name(self):\n",
    "        return '{} {}'.format(self.brand , self.model)\n",
    "    \n",
    "    \n",
    "    \n",
    "    \n",
    "phone = Phone('nokia','1100',1000)\n",
    "smartphone = Smartphone('Samsung','Galaxy A20','16000','6 GB','65 GB','20 MP')\n",
    "\n",
    "print(phone.full_name())\n",
    "print(smartphone.full_name())"
   ]
  },
  {
   "cell_type": "code",
   "execution_count": 60,
   "metadata": {},
   "outputs": [
    {
     "name": "stdout",
     "output_type": "stream",
     "text": [
      "nokia 1100\n",
      "Samsung Galaxy A20 and price is 16000\n"
     ]
    }
   ],
   "source": [
    "class Phone: # parent class/ base class\n",
    "    def __init__(self,brand,model,price):\n",
    "        self.brand = brand\n",
    "        self.model = model\n",
    "        self._price = max(price,0)\n",
    "        \n",
    "    def make_a_call(self,phone_number):\n",
    "        print('calling {}'.format(phone_number))\n",
    "        \n",
    "    def full_name(self):\n",
    "        return '{} {}'.format(self.brand , self.model)\n",
    "    \n",
    "class Smartphone(Phone): # child class/ derived class\n",
    "    def __init__(self,brand,model,price, ram,internal_momory,rear_camera):\n",
    "        # two ways: way 1-->\n",
    "        Phone.__init__(self,brand,model,price) # uncommon way\n",
    "        \n",
    "        self.ram = ram\n",
    "        self.internal_momory = internal_momory\n",
    "        self.rear_camera = rear_camera\n",
    "\n",
    "    \n",
    "    \n",
    "    \n",
    "phone = Phone('nokia','1100',1000)\n",
    "smartphone = Smartphone('Samsung','Galaxy A20',16000,'6 GB','65 GB','20 MP')\n",
    "\n",
    "print(phone.full_name())\n",
    "print(smartphone.full_name() + f' and price is {smartphone._price}')"
   ]
  },
  {
   "cell_type": "code",
   "execution_count": 61,
   "metadata": {},
   "outputs": [
    {
     "name": "stdout",
     "output_type": "stream",
     "text": [
      "nokia 1100\n",
      "Samsung Galaxy A20 and price is 16000\n"
     ]
    }
   ],
   "source": [
    "class Phone: # parent class/ base class\n",
    "    def __init__(self,brand,model,price):\n",
    "        self.brand = brand\n",
    "        self.model = model\n",
    "        self._price = max(price,0)\n",
    "        \n",
    "    def make_a_call(self,phone_number):\n",
    "        print('calling {}'.format(phone_number))\n",
    "        \n",
    "    def full_name(self):\n",
    "        return '{} {}'.format(self.brand , self.model)\n",
    "    \n",
    "class Smartphone(Phone): # child class/ derived class\n",
    "    def __init__(self,brand,model,price, ram,internal_momory,rear_camera):\n",
    "        # two ways: way 2-->\n",
    "        super().__init__(brand,model,price) # common way\n",
    "        \n",
    "        self.ram = ram\n",
    "        self.internal_momory = internal_momory\n",
    "        self.rear_camera = rear_camera\n",
    "\n",
    "    \n",
    "    \n",
    "    \n",
    "phone = Phone('nokia','1100',1000)\n",
    "smartphone = Smartphone('Samsung','Galaxy A20',16000,'6 GB','65 GB','20 MP')\n",
    "\n",
    "print(phone.full_name())\n",
    "print(smartphone.full_name() + f' and price is {smartphone._price}')"
   ]
  },
  {
   "cell_type": "code",
   "execution_count": null,
   "metadata": {},
   "outputs": [],
   "source": []
  },
  {
   "cell_type": "markdown",
   "metadata": {},
   "source": [
    "Can we derive more than one class from a class/parent class?\n",
    "\n",
    "----> yes"
   ]
  },
  {
   "cell_type": "code",
   "execution_count": null,
   "metadata": {},
   "outputs": [],
   "source": []
  },
  {
   "cell_type": "markdown",
   "metadata": {},
   "source": [
    "Can we derive class from a child class?\n",
    "\n",
    "---> yes, you can do this also."
   ]
  },
  {
   "cell_type": "markdown",
   "metadata": {},
   "source": [
    "This means --> multilevel inheritance"
   ]
  },
  {
   "cell_type": "code",
   "execution_count": null,
   "metadata": {},
   "outputs": [],
   "source": []
  },
  {
   "cell_type": "code",
   "execution_count": 5,
   "metadata": {},
   "outputs": [
    {
     "name": "stdout",
     "output_type": "stream",
     "text": [
      "Apple I-pad Pro\n"
     ]
    }
   ],
   "source": [
    "class Phone: # parent class/ base class\n",
    "    def __init__(self,brand,model,price):\n",
    "        self.brand = brand\n",
    "        self.model = model\n",
    "        self._price = max(price,0)\n",
    "        \n",
    "    def make_a_call(self,phone_number):\n",
    "        print('calling {}'.format(phone_number))\n",
    "        \n",
    "    def full_name(self):\n",
    "        return '{} {}'.format(self.brand , self.model)\n",
    "    \n",
    "class Smartphone(Phone): # child class/ derived class\n",
    "    def __init__(self,brand,model,price, ram,internal_momory,rear_camera):\n",
    "        \n",
    "        super().__init__(brand,model,price)\n",
    "        self.ram = ram\n",
    "        self.internal_momory = internal_momory\n",
    "        self.rear_camera = rear_camera\n",
    "\n",
    "class FlagshipPhone(Smartphone):\n",
    "    def __init__(self,brand,model,price, ram,internal_momory,rear_camera, front_camera,processor):\n",
    "        super().__init__(brand,model,price, ram,internal_momory,rear_camera)\n",
    "        self.front_camera = front_camera\n",
    "        self.processor = processor\n",
    "        \n",
    "smartphone = Smartphone('Samsung','Galaxy A20',16000,'6 GB','65 GB','20 MP')\n",
    "I_pad = FlagshipPhone('Apple','I-pad Pro',139000,'16 GB','164 GB','36 MP','40 MP','1355mm Quad Processor')\n",
    "\n",
    "print(I_pad.full_name())"
   ]
  },
  {
   "cell_type": "code",
   "execution_count": 10,
   "metadata": {},
   "outputs": [
    {
     "name": "stdout",
     "output_type": "stream",
     "text": [
      "Samsung Galaxy A20\n",
      "Help on class Smartphone in module __main__:\n",
      "\n",
      "class Smartphone(Phone)\n",
      " |  Smartphone(brand, model, price, ram, internal_momory, rear_camera)\n",
      " |  \n",
      " |  Method resolution order:\n",
      " |      Smartphone\n",
      " |      Phone\n",
      " |      builtins.object\n",
      " |  \n",
      " |  Methods defined here:\n",
      " |  \n",
      " |  __init__(self, brand, model, price, ram, internal_momory, rear_camera)\n",
      " |      Initialize self.  See help(type(self)) for accurate signature.\n",
      " |  \n",
      " |  ----------------------------------------------------------------------\n",
      " |  Methods inherited from Phone:\n",
      " |  \n",
      " |  full_name(self)\n",
      " |  \n",
      " |  make_a_call(self, phone_number)\n",
      " |  \n",
      " |  ----------------------------------------------------------------------\n",
      " |  Data descriptors inherited from Phone:\n",
      " |  \n",
      " |  __dict__\n",
      " |      dictionary for instance variables (if defined)\n",
      " |  \n",
      " |  __weakref__\n",
      " |      list of weak references to the object (if defined)\n",
      "\n",
      "None\n",
      "Apple I-pad Pro\n",
      "Help on FlagshipPhone in module __main__ object:\n",
      "\n",
      "class FlagshipPhone(Smartphone)\n",
      " |  FlagshipPhone(brand, model, price, ram, internal_momory, rear_camera, front_camera, processor)\n",
      " |  \n",
      " |  Method resolution order:\n",
      " |      FlagshipPhone\n",
      " |      Smartphone\n",
      " |      Phone\n",
      " |      builtins.object\n",
      " |  \n",
      " |  Methods defined here:\n",
      " |  \n",
      " |  __init__(self, brand, model, price, ram, internal_momory, rear_camera, front_camera, processor)\n",
      " |      Initialize self.  See help(type(self)) for accurate signature.\n",
      " |  \n",
      " |  ----------------------------------------------------------------------\n",
      " |  Methods inherited from Phone:\n",
      " |  \n",
      " |  full_name(self)\n",
      " |  \n",
      " |  make_a_call(self, phone_number)\n",
      " |  \n",
      " |  ----------------------------------------------------------------------\n",
      " |  Data descriptors inherited from Phone:\n",
      " |  \n",
      " |  __dict__\n",
      " |      dictionary for instance variables (if defined)\n",
      " |  \n",
      " |  __weakref__\n",
      " |      list of weak references to the object (if defined)\n",
      "\n",
      "None\n"
     ]
    }
   ],
   "source": [
    "class Phone: # parent class/ base class\n",
    "    def __init__(self,brand,model,price):\n",
    "        self.brand = brand\n",
    "        self.model = model\n",
    "        self._price = max(price,0)\n",
    "        \n",
    "    def make_a_call(self,phone_number):\n",
    "        print('calling {}'.format(phone_number))\n",
    "        \n",
    "    def full_name(self):\n",
    "        return '{} {}'.format(self.brand , self.model)\n",
    "    \n",
    "class Smartphone(Phone): # child class/ derived class\n",
    "    def __init__(self,brand,model,price, ram,internal_momory,rear_camera):\n",
    "        \n",
    "        super().__init__(brand,model,price)\n",
    "        self.ram = ram\n",
    "        self.internal_momory = internal_momory\n",
    "        self.rear_camera = rear_camera\n",
    "\n",
    "class FlagshipPhone(Smartphone):\n",
    "    def __init__(self,brand,model,price, ram,internal_momory,rear_camera, front_camera,processor):\n",
    "        super().__init__(brand,model,price, ram,internal_momory,rear_camera)\n",
    "        self.front_camera = front_camera\n",
    "        self.processor = processor\n",
    "        \n",
    "smartphone1 = Smartphone('Samsung','Galaxy A20',16000,'6 GB','65 GB','20 MP')\n",
    "I_pad = FlagshipPhone('Apple','I-pad Pro',139000,'16 GB','164 GB','36 MP','40 MP','1355mm Quad Processor')\n",
    "\n",
    "print(smartphone1.full_name())\n",
    "# MRO --> Method Resolution Order\n",
    "print(help(Smartphone))\n",
    "\n",
    "print(I_pad.full_name())\n",
    "# MRO --> Method Resolution Order\n",
    "print(help(I_pad))"
   ]
  },
  {
   "cell_type": "code",
   "execution_count": null,
   "metadata": {},
   "outputs": [],
   "source": []
  },
  {
   "cell_type": "markdown",
   "metadata": {},
   "source": [
    " method overriding... \n",
    " \n",
    " ---> when we'll call any method python will search this method according to MRO (Method resolution order).."
   ]
  },
  {
   "cell_type": "code",
   "execution_count": null,
   "metadata": {},
   "outputs": [],
   "source": []
  },
  {
   "cell_type": "code",
   "execution_count": 28,
   "metadata": {},
   "outputs": [
    {
     "name": "stdout",
     "output_type": "stream",
     "text": [
      "Samsung Galaxy A20 \n",
      " 6 GB ram and 65 GB internal memory \n",
      "\n",
      "Apple I-pad Pro \n",
      " 16 GB ram and 164 GB internal memory \n",
      "\n"
     ]
    }
   ],
   "source": [
    "class Phone: # parent class/ base class\n",
    "    def __init__(self,brand,model,price):\n",
    "        self.brand = brand\n",
    "        self.model = model\n",
    "        self._price = max(price,0)\n",
    "        \n",
    "    def make_a_call(self,phone_number):\n",
    "        print('calling {}'.format(phone_number))\n",
    "        \n",
    "    def full_name(self):\n",
    "        return '{} {}'.format(self.brand , self.model)\n",
    "    \n",
    "class Smartphone(Phone): # child class/ derived class\n",
    "    def __init__(self,brand,model,price, ram,internal_momory,rear_camera):\n",
    "        \n",
    "        super().__init__(brand,model,price)\n",
    "        self.ram = ram\n",
    "        self.internal_momory = internal_momory\n",
    "        self.rear_camera = rear_camera\n",
    "        \n",
    "        \n",
    "    def full_name(self):\n",
    "        return f'{self.brand} {self.model} \\n {self.ram} ram and {self.internal_momory} internal memory \\n'\n",
    "        \n",
    "        \n",
    "\n",
    "class FlagshipPhone(Smartphone):\n",
    "    def __init__(self,brand,model,price, ram,internal_momory,rear_camera, front_camera,processor):\n",
    "        super().__init__(brand,model,price, ram,internal_momory,rear_camera)\n",
    "        self.front_camera = front_camera\n",
    "        self.processor = processor\n",
    "        \n",
    "smartphone = Smartphone('Samsung','Galaxy A20',16000,'6 GB','65 GB','20 MP')\n",
    "I_pad = FlagshipPhone('Apple','I-pad Pro',139000,'16 GB','164 GB','36 MP','40 MP','1355mm Quad Processor')\n",
    "\n",
    "print(smartphone.full_name())\n",
    "\n",
    "print(I_pad.full_name())"
   ]
  },
  {
   "cell_type": "code",
   "execution_count": null,
   "metadata": {},
   "outputs": [],
   "source": []
  },
  {
   "cell_type": "markdown",
   "metadata": {},
   "source": [
    "-------->\n",
    "\n",
    "isinstance() and is subclass()      (built_in function)"
   ]
  },
  {
   "cell_type": "code",
   "execution_count": 52,
   "metadata": {},
   "outputs": [
    {
     "name": "stdout",
     "output_type": "stream",
     "text": [
      "True\n",
      "False\n",
      "True\n",
      "True\n",
      "True\n",
      "True \n",
      "\n",
      "\n",
      "True\n",
      "False\n",
      "True\n",
      "True\n"
     ]
    }
   ],
   "source": [
    "class Phone: # parent class/ base class\n",
    "    def __init__(self,brand,model,price):\n",
    "        self.brand = brand\n",
    "        self.model = model\n",
    "        self._price = max(price,0)\n",
    "        \n",
    "    def make_a_call(self,phone_number):\n",
    "        print('calling {}'.format(phone_number))\n",
    "        \n",
    "    def full_name(self):\n",
    "        return '{} {}'.format(self.brand , self.model)\n",
    "    \n",
    "class Smartphone(Phone): # child class/ derived class\n",
    "    def __init__(self,brand,model,price, ram,internal_momory,rear_camera):\n",
    "        \n",
    "        super().__init__(brand,model,price)\n",
    "        self.ram = ram\n",
    "        self.internal_momory = internal_momory\n",
    "        self.rear_camera = rear_camera\n",
    "        \n",
    "        \n",
    "    def full_name(self):\n",
    "        return f'{self.brand} {self.model} \\n {self.ram} ram and {self.internal_momory} internal memory \\n'\n",
    "        \n",
    "        \n",
    "\n",
    "class FlagshipPhone(Smartphone):\n",
    "    def __init__(self,brand,model,price, ram,internal_momory,rear_camera, front_camera,processor):\n",
    "        super().__init__(brand,model,price, ram,internal_momory,rear_camera)\n",
    "        self.front_camera = front_camera\n",
    "        self.processor = processor\n",
    "        \n",
    "samsung = Smartphone('Samsung','Galaxy A20',16000,'6 GB','65 GB','20 MP')\n",
    "I_pad = FlagshipPhone('Apple','I-pad Pro',139000,'16 GB','164 GB','36 MP','40 MP','1355mm Quad Processor')\n",
    "\n",
    "# isinstance() --> ( isinstance checks whether an instance/object is an instance of a class or of a subclass thereof.)\n",
    "\n",
    "print(isinstance(samsung , Smartphone))        # samsung is of this Class\n",
    "print(isinstance(samsung , FlagshipPhone))     # samsung is not of this Class\n",
    "print(isinstance(samsung , Phone))             # True bcz Smartphone class is inherited from Phone class ; so, it is of this class too. Smartphone is Phone's subclass\n",
    "\n",
    "print(isinstance(I_pad , FlagshipPhone))       # I_pad is of this class\n",
    "print(isinstance(I_pad , Smartphone))          # True bcz FlagshipPhone class is inherited from smartphone class ; so, it is of this class too. FlagshipPhone is Smartphone's subclass\n",
    "print(isinstance(I_pad , Phone) , '\\n\\n')               # True bcz FlagshipPhone class is inherited from smartphone from Phone class ; so, it is of this class to. FlagshipPhone is Phone's subclass\n",
    "\n",
    "\n",
    "# issubclass() --> ( checks whether 'cls' is a derived from another class or is the same class. )\n",
    "\n",
    "print(issubclass(Smartphone , Phone))\n",
    "print(issubclass(Phone , Smartphone))\n",
    "print(issubclass(FlagshipPhone , Smartphone))\n",
    "print(issubclass(FlagshipPhone , Phone))"
   ]
  },
  {
   "cell_type": "code",
   "execution_count": null,
   "metadata": {},
   "outputs": [],
   "source": []
  },
  {
   "cell_type": "markdown",
   "metadata": {},
   "source": [
    "Multiple inheritence"
   ]
  },
  {
   "cell_type": "code",
   "execution_count": 23,
   "metadata": {},
   "outputs": [
    {
     "name": "stdout",
     "output_type": "stream",
     "text": [
      "Help on class C in module __main__:\n",
      "\n",
      "class C(A, B)\n",
      " |  Method resolution order:\n",
      " |      C\n",
      " |      A\n",
      " |      B\n",
      " |      builtins.object\n",
      " |  \n",
      " |  Methods inherited from A:\n",
      " |  \n",
      " |  class_a_method(self)\n",
      " |  \n",
      " |  hello(self)\n",
      " |  \n",
      " |  ----------------------------------------------------------------------\n",
      " |  Data descriptors inherited from A:\n",
      " |  \n",
      " |  __dict__\n",
      " |      dictionary for instance variables (if defined)\n",
      " |  \n",
      " |  __weakref__\n",
      " |      list of weak references to the object (if defined)\n",
      " |  \n",
      " |  ----------------------------------------------------------------------\n",
      " |  Methods inherited from B:\n",
      " |  \n",
      " |  class_b_method(self)\n",
      "\n",
      "\n",
      "\n",
      "\n",
      "\n",
      "hello from class A\n"
     ]
    }
   ],
   "source": [
    "# multiple inheritance\n",
    "\n",
    "class A:\n",
    "    \n",
    "    def class_a_method(self):\n",
    "        return 'i\\'m just a class A method'\n",
    "    \n",
    "    \n",
    "    def hello(self):\n",
    "        return 'hello from class A'\n",
    "    \n",
    "class B:\n",
    "    \n",
    "    def class_b_method(self):\n",
    "        return 'i\\'m just a class B method'\n",
    "    \n",
    "    \n",
    "    def hello(self):\n",
    "        return 'hello from class B'\n",
    "    \n",
    "    \n",
    "class C(A,B):\n",
    "    pass\n",
    "\n",
    "instance_c = C()\n",
    "\n",
    "# print(instance_c.class_a_method())\n",
    "# print(instance_c.class_b_method())\n",
    "\n",
    "# print('\\n'*3)\n",
    "\n",
    "help(C)  # MRO. # for MRO you can use C.mro() and C.__mro__ too,\n",
    "print('\\n'*3)\n",
    "print(instance_c.hello())"
   ]
  },
  {
   "cell_type": "code",
   "execution_count": 22,
   "metadata": {},
   "outputs": [
    {
     "data": {
      "text/plain": [
       "[__main__.C, __main__.A, __main__.B, object]"
      ]
     },
     "execution_count": 22,
     "metadata": {},
     "output_type": "execute_result"
    }
   ],
   "source": [
    "C.mro()   # MRO"
   ]
  },
  {
   "cell_type": "code",
   "execution_count": 24,
   "metadata": {},
   "outputs": [
    {
     "data": {
      "text/plain": [
       "(__main__.C, __main__.A, __main__.B, object)"
      ]
     },
     "execution_count": 24,
     "metadata": {},
     "output_type": "execute_result"
    }
   ],
   "source": [
    "C.__mro__"
   ]
  },
  {
   "cell_type": "code",
   "execution_count": null,
   "metadata": {},
   "outputs": [],
   "source": []
  },
  {
   "cell_type": "markdown",
   "metadata": {},
   "source": [
    "special magic methods / dunder methods  (e.g. __init__  which before and after is __ & __)\n",
    "\n",
    "operator overloading\n",
    "\n",
    "polymorphism"
   ]
  },
  {
   "cell_type": "code",
   "execution_count": null,
   "metadata": {},
   "outputs": [],
   "source": []
  },
  {
   "cell_type": "code",
   "execution_count": 42,
   "metadata": {
    "scrolled": true
   },
   "outputs": [
    {
     "name": "stdout",
     "output_type": "stream",
     "text": [
      "Nokia 1100 and price is 1000\n",
      "Phone('Nokia', '1100', 1000)\n",
      "Nokia 1100\n",
      "10\n",
      "10\n"
     ]
    }
   ],
   "source": [
    "# magic method / dunder method\n",
    "\n",
    "class Phone:\n",
    "    def __init__(self,brand,model,price):\n",
    "        self.brand = brand\n",
    "        self.model = model\n",
    "        self.price = price\n",
    "        \n",
    "    def phone_name(self):\n",
    "        return f'{self.brand} {self.model}'\n",
    "    \n",
    "    # magic/dunder method\n",
    "    \n",
    "    # str , repr  (representation)\n",
    "    def __str__(self):\n",
    "        return f'{self.brand} {self.model} and price is {self.price}'\n",
    "\n",
    "    def __repr__(self):\n",
    "        return f'Phone(\\'{self.brand}\\', \\'{self.model}\\', {self.price})'\n",
    "    \n",
    "    def __len__(self):\n",
    "        return len(self.phone_name())\n",
    "    \n",
    "# l = [1,2,3]\n",
    "# print(l)\n",
    "    \n",
    "my_phone = Phone('Nokia', '1100', 1000)\n",
    "\n",
    "print(my_phone)\n",
    "\n",
    "# print(str(my_phone))\n",
    "# print(repr(my_phone))\n",
    "\n",
    "print(my_phone.__repr__())\n",
    "\n",
    "\n",
    "print(my_phone.phone_name())\n",
    "print(len(my_phone))   # or\n",
    "print(my_phone.__len__())"
   ]
  },
  {
   "cell_type": "code",
   "execution_count": null,
   "metadata": {},
   "outputs": [],
   "source": []
  },
  {
   "cell_type": "markdown",
   "metadata": {},
   "source": [
    " Operator Overloading"
   ]
  },
  {
   "cell_type": "code",
   "execution_count": 48,
   "metadata": {},
   "outputs": [
    {
     "name": "stdout",
     "output_type": "stream",
     "text": [
      "2200\n",
      "1200000\n"
     ]
    }
   ],
   "source": [
    "class Phone:\n",
    "    def __init__(self,brand,model,price):\n",
    "        self.brand = brand\n",
    "        self.model = model\n",
    "        self.price = price\n",
    "        \n",
    "    def phone_name(self):\n",
    "        return f'{self.brand} {self.model}'\n",
    "    \n",
    "    def __str__(self):\n",
    "        return f'{self.brand} {self.model} and price is {self.price}'\n",
    "\n",
    "    def __repr__(self):\n",
    "        return f'Phone(\\'{self.brand}\\', \\'{self.model}\\', {self.price})'\n",
    "    \n",
    "    def __len__(self):\n",
    "        return len(self.phone_name())\n",
    "    \n",
    "    # operator overloading\n",
    "    def __add__(self , other):\n",
    "        return self.price + other.price\n",
    "    \n",
    "    def __mul__(self , other):\n",
    "        return self.price * other.price\n",
    "    \n",
    "my_phone1 = Phone('Nokia', '1100', 1000)\n",
    "my_phone2 = Phone('Nokia', '1600', 1200)\n",
    "\n",
    "print(my_phone1 + my_phone2)\n",
    "print(my_phone1 * my_phone2)"
   ]
  },
  {
   "cell_type": "code",
   "execution_count": null,
   "metadata": {},
   "outputs": [],
   "source": []
  },
  {
   "cell_type": "markdown",
   "metadata": {},
   "source": [
    "Polymorphism --> if there be many form of one thing (operator,method and whatever) then it is called polymorphism. e.g. + opreator (it adds numbers and string also etc.) , len()  (it gives length of list as well as string, tuple, number etc)"
   ]
  },
  {
   "cell_type": "markdown",
   "metadata": {},
   "source": [
    "                                     --------------- 0 ----------------"
   ]
  },
  {
   "cell_type": "code",
   "execution_count": null,
   "metadata": {},
   "outputs": [],
   "source": []
  }
 ],
 "metadata": {
  "kernelspec": {
   "display_name": "Python 3",
   "language": "python",
   "name": "python3"
  },
  "language_info": {
   "codemirror_mode": {
    "name": "ipython",
    "version": 3
   },
   "file_extension": ".py",
   "mimetype": "text/x-python",
   "name": "python",
   "nbconvert_exporter": "python",
   "pygments_lexer": "ipython3",
   "version": "3.7.6"
  }
 },
 "nbformat": 4,
 "nbformat_minor": 4
}
