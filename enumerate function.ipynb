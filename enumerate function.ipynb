{
 "cells": [
  {
   "cell_type": "code",
   "execution_count": 1,
   "metadata": {},
   "outputs": [
    {
     "name": "stdout",
     "output_type": "stream",
     "text": [
      "0 -----> abc\n",
      "1 -----> abcdef\n",
      "2 -----> emon\n"
     ]
    }
   ],
   "source": [
    "names = ['abc','abcdef', 'emon']\n",
    "pos = 0\n",
    "for name in names:\n",
    "    print(f'{pos} -----> {name}')\n",
    "    pos += 1"
   ]
  },
  {
   "cell_type": "code",
   "execution_count": 2,
   "metadata": {},
   "outputs": [
    {
     "name": "stdout",
     "output_type": "stream",
     "text": [
      "0 ----> abc\n",
      "1 ----> abcdef\n",
      "2 ----> emon\n"
     ]
    }
   ],
   "source": [
    "# names = ['abc','abcdef', 'emon']\n",
    "# pos = 0\n",
    "# for name in names:\n",
    "#     print(f'{pos} -----> {name}')\n",
    "#     pos += 1\n",
    "\n",
    "names = ['abc','abcdef', 'emon']\n",
    "\n",
    "\n",
    "for pos, name in enumerate(names):\n",
    "    print(f'{pos} ----> {name}')"
   ]
  },
  {
   "cell_type": "code",
   "execution_count": 4,
   "metadata": {},
   "outputs": [
    {
     "name": "stdout",
     "output_type": "stream",
     "text": [
      "2 ----> abc\n",
      "3 ----> abcdef\n",
      "4 ----> emon\n"
     ]
    }
   ],
   "source": [
    "for pos, name in enumerate(names , 2):\n",
    "    print(f'{pos} ----> {name}')"
   ]
  },
  {
   "cell_type": "code",
   "execution_count": null,
   "metadata": {},
   "outputs": [],
   "source": []
  },
  {
   "cell_type": "code",
   "execution_count": 14,
   "metadata": {},
   "outputs": [
    {
     "name": "stdout",
     "output_type": "stream",
     "text": [
      "3 -----> nisar\n",
      "None\n",
      "sakib -----> -1 \n",
      "None\n"
     ]
    }
   ],
   "source": [
    "def func(li , target):\n",
    "    for position, i in enumerate(li):\n",
    "        if target == i:\n",
    "            print(f'{position} -----> {i}')\n",
    "    if target not in li:\n",
    "        print(f'{target} -----> -1 ')\n",
    "        \n",
    "names = ['sunny','emon','topu','nisar']\n",
    "print(func(names , 'nisar'))\n",
    "print(func(names , 'sakib'))"
   ]
  },
  {
   "cell_type": "code",
   "execution_count": 18,
   "metadata": {},
   "outputs": [
    {
     "name": "stdout",
     "output_type": "stream",
     "text": [
      "2\n"
     ]
    }
   ],
   "source": [
    "names = ['abc','abcdef', 'emon']\n",
    "\n",
    "\n",
    "def find_pos(l , target):\n",
    "    for pos , name in enumerate(l):\n",
    "        if name == target:\n",
    "            return pos\n",
    "    return -1\n",
    "print(find_pos(names , 'emon'))\n"
   ]
  },
  {
   "cell_type": "code",
   "execution_count": null,
   "metadata": {},
   "outputs": [],
   "source": []
  }
 ],
 "metadata": {
  "kernelspec": {
   "display_name": "Python 3",
   "language": "python",
   "name": "python3"
  },
  "language_info": {
   "codemirror_mode": {
    "name": "ipython",
    "version": 3
   },
   "file_extension": ".py",
   "mimetype": "text/x-python",
   "name": "python",
   "nbconvert_exporter": "python",
   "pygments_lexer": "ipython3",
   "version": "3.7.6"
  }
 },
 "nbformat": 4,
 "nbformat_minor": 4
}
