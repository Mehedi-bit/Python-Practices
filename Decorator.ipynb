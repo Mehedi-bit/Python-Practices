{
 "cells": [
  {
   "cell_type": "markdown",
   "metadata": {},
   "source": [
    "# decorators --> enhanse the funtionality of other function\n",
    "#                         (decorates the function)"
   ]
  },
  {
   "cell_type": "code",
   "execution_count": 1,
   "metadata": {},
   "outputs": [
    {
     "name": "stdout",
     "output_type": "stream",
     "text": [
      "This is awesome function\n",
      "It is function 2\n"
     ]
    }
   ],
   "source": [
    "\n",
    "def decorator_function(any_function):\n",
    "    def wrapper_function():\n",
    "        print('This is awesome function')\n",
    "        any_function()\n",
    "    return wrapper_function\n",
    "\n",
    "\n",
    "\n",
    "# this is awesome function\n",
    "def func1():\n",
    "    print('It is function 1')\n",
    "    \n",
    "    \n",
    "#this is awesome function\n",
    "def func2():\n",
    "    print('It is function 2')\n",
    "    \n",
    "    \n",
    "func2 = decorator_function(func2)\n",
    "func2()"
   ]
  },
  {
   "cell_type": "code",
   "execution_count": null,
   "metadata": {},
   "outputs": [],
   "source": []
  },
  {
   "cell_type": "markdown",
   "metadata": {},
   "source": [
    "# @ is used for decorators"
   ]
  },
  {
   "cell_type": "code",
   "execution_count": 2,
   "metadata": {},
   "outputs": [
    {
     "name": "stdout",
     "output_type": "stream",
     "text": [
      "This is awesome function\n",
      "It is function 1\n",
      "This is awesome function\n",
      "It is function 2\n"
     ]
    }
   ],
   "source": [
    "def decorator_function(any_function):\n",
    "    def wrapper_function():\n",
    "        print('This is awesome function')\n",
    "        any_function()\n",
    "    return wrapper_function\n",
    "\n",
    "\n",
    "\n",
    "# this is awesome function\n",
    "\n",
    "@decorator_function\n",
    "def func1():\n",
    "    print('It is function 1')\n",
    "    \n",
    "    \n",
    "func1()\n",
    "    \n",
    "    \n",
    "#this is awesome function\n",
    "\n",
    "@decorator_function\n",
    "def func2():\n",
    "    print('It is function 2')\n",
    "    \n",
    "func2()\n",
    "    \n",
    "# func2 = decorator_function(func2)\n",
    "# func2()\n",
    "\n",
    "\n"
   ]
  },
  {
   "cell_type": "code",
   "execution_count": null,
   "metadata": {},
   "outputs": [],
   "source": []
  },
  {
   "cell_type": "markdown",
   "metadata": {},
   "source": [
    "# Argument problem"
   ]
  },
  {
   "cell_type": "code",
   "execution_count": 4,
   "metadata": {},
   "outputs": [
    {
     "ename": "TypeError",
     "evalue": "wrapper_function() takes 0 positional arguments but 1 was given",
     "output_type": "error",
     "traceback": [
      "\u001b[1;31m---------------------------------------------------------------------------\u001b[0m",
      "\u001b[1;31mTypeError\u001b[0m                                 Traceback (most recent call last)",
      "\u001b[1;32m<ipython-input-4-578e62aecb77>\u001b[0m in \u001b[0;36m<module>\u001b[1;34m\u001b[0m\n\u001b[0;32m      9\u001b[0m     \u001b[0mprint\u001b[0m\u001b[1;33m(\u001b[0m\u001b[1;34mf'this is a function with argument {a}'\u001b[0m\u001b[1;33m)\u001b[0m\u001b[1;33m\u001b[0m\u001b[1;33m\u001b[0m\u001b[0m\n\u001b[0;32m     10\u001b[0m \u001b[1;33m\u001b[0m\u001b[0m\n\u001b[1;32m---> 11\u001b[1;33m \u001b[0mfunc\u001b[0m\u001b[1;33m(\u001b[0m\u001b[1;36m7\u001b[0m\u001b[1;33m)\u001b[0m\u001b[1;33m\u001b[0m\u001b[1;33m\u001b[0m\u001b[0m\n\u001b[0m",
      "\u001b[1;31mTypeError\u001b[0m: wrapper_function() takes 0 positional arguments but 1 was given"
     ]
    }
   ],
   "source": [
    "def decorator_function(function):\n",
    "    def wrapper_function():\n",
    "        print('The function you created is attractive')\n",
    "        function()\n",
    "    return wrapper_function\n",
    "\n",
    "@decorator_function\n",
    "def func(a):\n",
    "    print(f'this is a function with argument {a}')\n",
    "    \n",
    "func(7)"
   ]
  },
  {
   "cell_type": "code",
   "execution_count": 5,
   "metadata": {},
   "outputs": [
    {
     "name": "stdout",
     "output_type": "stream",
     "text": [
      "The function you created is attractive\n",
      "this is a function with argument 7\n"
     ]
    }
   ],
   "source": [
    "def decorator_function(function):\n",
    "    def wrapper_function(*args , **kwargs):\n",
    "        print('The function you created is attractive')\n",
    "        function(*args , **kwargs)\n",
    "    return wrapper_function\n",
    "\n",
    "@decorator_function\n",
    "def func(a):\n",
    "    print(f'this is a function with argument {a}')\n",
    "    \n",
    "func(7)"
   ]
  },
  {
   "cell_type": "code",
   "execution_count": 6,
   "metadata": {},
   "outputs": [
    {
     "name": "stdout",
     "output_type": "stream",
     "text": [
      "your work is mind-blowing\n",
      "this is function with argument 5 and 9\n"
     ]
    }
   ],
   "source": [
    "def decorator_function(any_function):\n",
    "    def wrapper_function(*args , **kwargs):\n",
    "        print('your work is mind-blowing')\n",
    "        any_function(*args , **kwargs)\n",
    "    return wrapper_function\n",
    "\n",
    "@decorator_function\n",
    "def func(a,b):\n",
    "    print(f'this is function with argument {a} and {b}')\n",
    "    \n",
    "func(5,9)"
   ]
  },
  {
   "cell_type": "code",
   "execution_count": null,
   "metadata": {},
   "outputs": [],
   "source": []
  },
  {
   "cell_type": "markdown",
   "metadata": {},
   "source": [
    "# returning None problem though i'm doing calculation"
   ]
  },
  {
   "cell_type": "code",
   "execution_count": 7,
   "metadata": {},
   "outputs": [
    {
     "name": "stdout",
     "output_type": "stream",
     "text": [
      "your work is mind-blowing\n",
      "None\n"
     ]
    }
   ],
   "source": [
    "def decorator_function(any_function):\n",
    "    def wrapper_function(*args , **kwargs):\n",
    "        print('your work is mind-blowing')\n",
    "        any_function(*args , **kwargs)\n",
    "    return wrapper_function\n",
    "\n",
    "\n",
    "@decorator_function\n",
    "def add(a,b):\n",
    "    return a+b\n",
    "\n",
    "print(add(2,3))"
   ]
  },
  {
   "cell_type": "code",
   "execution_count": 8,
   "metadata": {},
   "outputs": [
    {
     "name": "stdout",
     "output_type": "stream",
     "text": [
      "your work is mind-blowing\n",
      "5\n"
     ]
    }
   ],
   "source": [
    "def decorator_function(any_function):\n",
    "    def wrapper_function(*args , **kwargs):\n",
    "        print('your work is mind-blowing')\n",
    "        return any_function(*args , **kwargs)\n",
    "    return wrapper_function\n",
    "\n",
    "\n",
    "@decorator_function\n",
    "def add(a,b):\n",
    "    return a+b\n",
    "\n",
    "print(add(2,3))"
   ]
  },
  {
   "cell_type": "code",
   "execution_count": null,
   "metadata": {},
   "outputs": [],
   "source": []
  },
  {
   "cell_type": "markdown",
   "metadata": {},
   "source": [
    "# dockstring and name problem caused for wrapper function"
   ]
  },
  {
   "cell_type": "code",
   "execution_count": 9,
   "metadata": {},
   "outputs": [
    {
     "name": "stdout",
     "output_type": "stream",
     "text": [
      "This is wrapper function\n",
      "wrapper_function\n"
     ]
    }
   ],
   "source": [
    "def decorator_function(any_function):\n",
    "    def wrapper_function(*args , **kwargs):\n",
    "        \"\"\"This is wrapper function\"\"\"\n",
    "        print('your work is mind-blowing')\n",
    "        return any_function(*args , **kwargs)\n",
    "    return wrapper_function\n",
    "\n",
    "\n",
    "@decorator_function\n",
    "def add(a,b):\n",
    "    \"\"\"this is add function\"\"\"\n",
    "    return a+b\n",
    "\n",
    "print(add.__doc__)\n",
    "print(add.__name__)     ## They returning dockstring and name of wrapper_function()\n",
    "                        ## Though i'm wanting add() function's doc & name"
   ]
  },
  {
   "cell_type": "code",
   "execution_count": 10,
   "metadata": {},
   "outputs": [
    {
     "name": "stdout",
     "output_type": "stream",
     "text": [
      "this is add function\n",
      "add\n"
     ]
    }
   ],
   "source": [
    "from functools import wraps\n",
    "\n",
    "def decorator_function(any_function):\n",
    "    @wraps(any_function)\n",
    "    def wrapper_function(*args , **kwargs):\n",
    "        \"\"\"This is wrapper function\"\"\"\n",
    "        print('your work is mind-blowing')\n",
    "        return any_function(*args , **kwargs)\n",
    "    return wrapper_function\n",
    "\n",
    "\n",
    "@decorator_function\n",
    "def add(a,b):\n",
    "    \"\"\"this is add function\"\"\"\n",
    "    return a+b\n",
    "\n",
    "print(add.__doc__)\n",
    "print(add.__name__)  ## SOLVED\n"
   ]
  },
  {
   "cell_type": "markdown",
   "metadata": {},
   "source": [
    "# So best form of decorator function is below----->\n",
    "\n",
    "\n",
    "# Always write decorator function like below---->"
   ]
  },
  {
   "cell_type": "code",
   "execution_count": 11,
   "metadata": {},
   "outputs": [
    {
     "name": "stdout",
     "output_type": "stream",
     "text": [
      "Your work is mind-blowing\n",
      "15\n"
     ]
    }
   ],
   "source": [
    "def decorator_function(any_function):\n",
    "    def wrapper_function(*args , **kwargs):\n",
    "        print('Your work is mind-blowing')\n",
    "        return any_function(*args , **kwargs)\n",
    "    return wrapper_function\n",
    "\n",
    "@decorator_function\n",
    "def multiply(a,b):\n",
    "    return a*b\n",
    "\n",
    "print(multiply(3,5))"
   ]
  },
  {
   "cell_type": "code",
   "execution_count": 16,
   "metadata": {},
   "outputs": [
    {
     "name": "stdout",
     "output_type": "stream",
     "text": [
      "add\n",
      "I love it. it is mind_blowing\n",
      "12\n"
     ]
    }
   ],
   "source": [
    "## HANDLING DOCK AND NAME\n",
    "\n",
    "from functools import wraps\n",
    "def decorator_function(any_function):\n",
    "    @wraps(any_function)\n",
    "    def wrapper_function(*args , **kwargs):\n",
    "        '''This wrapper function wraps'''\n",
    "        print('I love it. it is mind_blowing')\n",
    "        return any_function(*args , **kwargs)\n",
    "    return wrapper_function\n",
    "\n",
    "@decorator_function\n",
    "def add(a,b):\n",
    "    return a+b\n",
    "\n",
    "print(add(5,7))"
   ]
  },
  {
   "cell_type": "code",
   "execution_count": null,
   "metadata": {},
   "outputs": [],
   "source": []
  }
 ],
 "metadata": {
  "kernelspec": {
   "display_name": "Python 3",
   "language": "python",
   "name": "python3"
  },
  "language_info": {
   "codemirror_mode": {
    "name": "ipython",
    "version": 3
   },
   "file_extension": ".py",
   "mimetype": "text/x-python",
   "name": "python",
   "nbconvert_exporter": "python",
   "pygments_lexer": "ipython3",
   "version": "3.7.6"
  }
 },
 "nbformat": 4,
 "nbformat_minor": 4
}
