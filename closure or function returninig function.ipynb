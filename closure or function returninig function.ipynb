{
 "cells": [
  {
   "cell_type": "code",
   "execution_count": 1,
   "metadata": {},
   "outputs": [
    {
     "name": "stdout",
     "output_type": "stream",
     "text": [
      "inside inner func\n"
     ]
    }
   ],
   "source": [
    "def outer_func():\n",
    "    def inner_func():\n",
    "        print('inside inner func')\n",
    "    return inner_func\n",
    "var = outer_func()\n",
    "var()\n"
   ]
  },
  {
   "cell_type": "code",
   "execution_count": 2,
   "metadata": {},
   "outputs": [
    {
     "name": "stdout",
     "output_type": "stream",
     "text": [
      "messsge is ---> Hi there!!\n"
     ]
    }
   ],
   "source": [
    "def outer_func2(msg):\n",
    "    def inner_func2():\n",
    "        print(f'messsge is ---> {msg}')\n",
    "    return inner_func2\n",
    "\n",
    "var = outer_func2('Hi there!!')\n",
    "var()"
   ]
  },
  {
   "cell_type": "code",
   "execution_count": null,
   "metadata": {},
   "outputs": [],
   "source": []
  },
  {
   "cell_type": "code",
   "execution_count": 1,
   "metadata": {},
   "outputs": [
    {
     "name": "stdout",
     "output_type": "stream",
     "text": [
      "8\n"
     ]
    }
   ],
   "source": [
    "def power(n):\n",
    "    def base(x):\n",
    "        return x**n\n",
    "    return base\n",
    "\n",
    "cube = power(3)\n",
    "print(cube(2))"
   ]
  },
  {
   "cell_type": "code",
   "execution_count": 3,
   "metadata": {},
   "outputs": [
    {
     "name": "stdout",
     "output_type": "stream",
     "text": [
      "81\n"
     ]
    }
   ],
   "source": [
    "def base_is(x):\n",
    "    def power_is(n):\n",
    "        return x**n\n",
    "    return power_is\n",
    "\n",
    "power4 = base_is(3)\n",
    "print(power4(4))"
   ]
  },
  {
   "cell_type": "code",
   "execution_count": 4,
   "metadata": {},
   "outputs": [
    {
     "name": "stdout",
     "output_type": "stream",
     "text": [
      "9\n"
     ]
    }
   ],
   "source": [
    "square = power(2)\n",
    "print(square(3))"
   ]
  },
  {
   "cell_type": "code",
   "execution_count": null,
   "metadata": {},
   "outputs": [],
   "source": []
  }
 ],
 "metadata": {
  "kernelspec": {
   "display_name": "Python 3",
   "language": "python",
   "name": "python3"
  },
  "language_info": {
   "codemirror_mode": {
    "name": "ipython",
    "version": 3
   },
   "file_extension": ".py",
   "mimetype": "text/x-python",
   "name": "python",
   "nbconvert_exporter": "python",
   "pygments_lexer": "ipython3",
   "version": "3.7.6"
  }
 },
 "nbformat": 4,
 "nbformat_minor": 4
}
