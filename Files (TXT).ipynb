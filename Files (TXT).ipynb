{
 "cells": [
  {
   "cell_type": "markdown",
   "metadata": {},
   "source": [
    "# Work with text files\n",
    "    readfile\n",
    "    open() function\n",
    "    read() method\n",
    "    seek() method   --> [seeks cursor position]\n",
    "    tell() method   --> [tells cursor position]\n",
    "    readline() method --> [read one line]\n",
    "    readlines() method --> [read all lines & and store them into list [ iterable ] ]\n",
    "    close method"
   ]
  },
  {
   "cell_type": "markdown",
   "metadata": {},
   "source": [
    "# this py file and txt file has to be in same foler \n",
    "\n",
    "# but if does't , but want to access txt file so instead of the file name (eg. 'file1.txt') , we have to write the path of that file (eg. r'D:\\course\\new folder\\emon.txt') .\n",
    "\n",
    "\n",
    "    *** We have written (r'D:\\course\\new folder\\emon.txt'), r --> because python will treat '\\new folder' 's first letter '\\n' as new line(\\n) . so we have written r (raw) before of the file path. windows computer uses '\\' for path, where linux, mac uses '/' instead "
   ]
  },
  {
   "cell_type": "code",
   "execution_count": 109,
   "metadata": {
    "scrolled": true
   },
   "outputs": [
    {
     "name": "stdout",
     "output_type": "stream",
     "text": [
      "I am Md. Mehedi Hasan, Servent of Allah. I LOVE THE ALMIGHTY ALLAH MOST. Allah is always with the people who is in the honest way, the right way, who always wars against Saitaan. Who serves the oppressed people. Who Will Run On The Right Way Even If The WHOLE WORLD Walks On The Wrong Way.\n"
     ]
    }
   ],
   "source": [
    "f = open('file1.txt' , mode = 'r')  # 'r' is default, if you want you can write it not also..\n",
    "print(f.read())\n",
    "f.close()"
   ]
  },
  {
   "cell_type": "code",
   "execution_count": 64,
   "metadata": {},
   "outputs": [
    {
     "name": "stdout",
     "output_type": "stream",
     "text": [
      "<_io.TextIOWrapper name='file1.txt' mode='r' encoding='cp1252'>\n"
     ]
    }
   ],
   "source": [
    "print(f)   # its the object of my file -- file1.txt"
   ]
  },
  {
   "cell_type": "code",
   "execution_count": 40,
   "metadata": {},
   "outputs": [
    {
     "name": "stdout",
     "output_type": "stream",
     "text": [
      "cursor position --> 0\n",
      "I am Md. Mehedi Hasan, Servent of Allah. I LOVE THE ALMIGHTY ALLAH MOST. Allah is always with the people who is in the honest way, the right way, who always wars against Saitaan. Who serves the oppressed people. Who Will Run On The Right Way Even If The WHOLE WORLD Walks On The Wrong Way.\n",
      "cursor position --> 289\n",
      "\n"
     ]
    }
   ],
   "source": [
    "f = open('file1.txt' , mode = 'r')\n",
    "print('cursor position --> {}'.format(f.tell()))\n",
    "print(f.read())\n",
    "print('cursor position --> {}'.format(f.tell()))\n",
    "print(f.read())\n",
    "f.close()"
   ]
  },
  {
   "cell_type": "code",
   "execution_count": 41,
   "metadata": {},
   "outputs": [
    {
     "name": "stdout",
     "output_type": "stream",
     "text": [
      "cursor position --> 0\n",
      "I am Md. Mehedi Hasan, Servent of Allah. I LOVE THE ALMIGHTY ALLAH MOST. Allah is always with the people who is in the honest way, the right way, who always wars against Saitaan. Who serves the oppressed people. Who Will Run On The Right Way Even If The WHOLE WORLD Walks On The Wrong Way.\n",
      "cursor position --> 289\n",
      "\n",
      "\n",
      "\n",
      "cursor position --> 0\n",
      "I am Md. Mehedi Hasan, Servent of Allah. I LOVE THE ALMIGHTY ALLAH MOST. Allah is always with the people who is in the honest way, the right way, who always wars against Saitaan. Who serves the oppressed people. Who Will Run On The Right Way Even If The WHOLE WORLD Walks On The Wrong Way.\n"
     ]
    }
   ],
   "source": [
    "f = open('file1.txt' , mode = 'r')\n",
    "print('cursor position --> {}'.format(f.tell()))\n",
    "print(f.read())\n",
    "print('cursor position --> {}'.format(f.tell()))\n",
    "print('\\n'*2)\n",
    "\n",
    "f.seek (0)\n",
    "print(f'cursor position --> {f.tell()}')\n",
    "print(f.read())    # as we seeked the cursor position at 0, it will read the file again from 0.\n",
    "f.close()"
   ]
  },
  {
   "cell_type": "code",
   "execution_count": 52,
   "metadata": {},
   "outputs": [
    {
     "name": "stdout",
     "output_type": "stream",
     "text": [
      "I am Emon.\n",
      "\n",
      "I am a Muslim..\n",
      "\n"
     ]
    }
   ],
   "source": [
    "file2_obj = open('file2.txt', mode = 'r')\n",
    "print(file2_obj.readline())\n",
    "print(file2_obj.readline())"
   ]
  },
  {
   "cell_type": "code",
   "execution_count": 57,
   "metadata": {},
   "outputs": [
    {
     "name": "stdout",
     "output_type": "stream",
     "text": [
      "I am Emon.\n",
      " I am a Muslim..\n",
      "  I am proud of being servent of Allah...   "
     ]
    }
   ],
   "source": [
    "file2_obj = open('file2.txt', mode = 'r')\n",
    "print(file2_obj.readline(), end =' ')\n",
    "print(file2_obj.readline(), end ='  ')\n",
    "print(file2_obj.readline(), end ='   ')"
   ]
  },
  {
   "cell_type": "code",
   "execution_count": 73,
   "metadata": {},
   "outputs": [
    {
     "name": "stdout",
     "output_type": "stream",
     "text": [
      "<_io.TextIOWrapper name='file2.txt' mode='r' encoding='cp1252'>\n"
     ]
    }
   ],
   "source": [
    "print(file2_obj)"
   ]
  },
  {
   "cell_type": "code",
   "execution_count": 74,
   "metadata": {},
   "outputs": [
    {
     "data": {
      "text/plain": [
       "[]"
      ]
     },
     "execution_count": 74,
     "metadata": {},
     "output_type": "execute_result"
    }
   ],
   "source": [
    "file2_obj.readlines()"
   ]
  },
  {
   "cell_type": "code",
   "execution_count": 78,
   "metadata": {},
   "outputs": [
    {
     "name": "stdout",
     "output_type": "stream",
     "text": [
      "['I am Emon.\\n', 'I am a Muslim..\\n', 'I am proud of being servent of Allah...']\n"
     ]
    }
   ],
   "source": [
    "file2_obj = open('file2.txt', mode = 'r')\n",
    "print(file2_obj.readlines())"
   ]
  },
  {
   "cell_type": "code",
   "execution_count": 93,
   "metadata": {},
   "outputs": [
    {
     "name": "stdout",
     "output_type": "stream",
     "text": [
      "['I am Emon.\\n', 'I am a Muslim..\\n', 'I am proud of being servent of Allah...']\n",
      "\n",
      "\n",
      "\n",
      "3\n",
      "Number of lines --> 3\n"
     ]
    }
   ],
   "source": [
    "f2 = open('file2.txt')  # mode='r' is default\n",
    "\n",
    "lines = f2.readlines()\n",
    "print(lines)\n",
    "\n",
    "print('\\n'*2)\n",
    "\n",
    "\n",
    "print(len(lines))\n",
    "\n",
    "f2.seek(0)\n",
    "print(f'Number of lines --> {len(f2.readlines())}')   # or len(lines)"
   ]
  },
  {
   "cell_type": "code",
   "execution_count": 94,
   "metadata": {},
   "outputs": [
    {
     "name": "stdout",
     "output_type": "stream",
     "text": [
      "I am Emon.\n",
      "I am a Muslim..\n",
      "I am proud of being servent of Allah..."
     ]
    }
   ],
   "source": [
    "for line in lines:\n",
    "    print(line, end = '')"
   ]
  },
  {
   "cell_type": "code",
   "execution_count": null,
   "metadata": {},
   "outputs": [],
   "source": []
  },
  {
   "cell_type": "markdown",
   "metadata": {},
   "source": [
    "# Data discripter\n",
    "    1. name    --> tells name\n",
    "    2. closed  --> tells file closed or not\n",
    "    \n",
    "    \n",
    "\n",
    "\n",
    "no parenthesis () as they are not method/func"
   ]
  },
  {
   "cell_type": "code",
   "execution_count": 95,
   "metadata": {},
   "outputs": [
    {
     "data": {
      "text/plain": [
       "'file1.txt'"
      ]
     },
     "execution_count": 95,
     "metadata": {},
     "output_type": "execute_result"
    }
   ],
   "source": [
    "f.name"
   ]
  },
  {
   "cell_type": "code",
   "execution_count": 96,
   "metadata": {},
   "outputs": [
    {
     "data": {
      "text/plain": [
       "'file2.txt'"
      ]
     },
     "execution_count": 96,
     "metadata": {},
     "output_type": "execute_result"
    }
   ],
   "source": [
    "f2.name"
   ]
  },
  {
   "cell_type": "code",
   "execution_count": 97,
   "metadata": {},
   "outputs": [
    {
     "data": {
      "text/plain": [
       "True"
      ]
     },
     "execution_count": 97,
     "metadata": {},
     "output_type": "execute_result"
    }
   ],
   "source": [
    "f.closed"
   ]
  },
  {
   "cell_type": "code",
   "execution_count": 98,
   "metadata": {},
   "outputs": [
    {
     "data": {
      "text/plain": [
       "False"
      ]
     },
     "execution_count": 98,
     "metadata": {},
     "output_type": "execute_result"
    }
   ],
   "source": [
    "f2.closed    # we didn't closed the file in previous program"
   ]
  },
  {
   "cell_type": "code",
   "execution_count": 107,
   "metadata": {},
   "outputs": [
    {
     "name": "stdout",
     "output_type": "stream",
     "text": [
      "file1.txt\n",
      "False\n",
      "True\n"
     ]
    }
   ],
   "source": [
    "f = open('file1.txt')\n",
    "\n",
    "print(f.name)\n",
    "print(f.closed) # file didn't closed yet. so False, not closed.\n",
    "\n",
    "f.close()       # file is closed now. so True, Yes, closed.\n",
    "print(f.closed)"
   ]
  },
  {
   "cell_type": "code",
   "execution_count": 111,
   "metadata": {},
   "outputs": [
    {
     "name": "stdout",
     "output_type": "stream",
     "text": [
      "f file is closed in previous program\n"
     ]
    }
   ],
   "source": [
    "if f.closed:\n",
    "    print('f file is closed in previous program')"
   ]
  },
  {
   "cell_type": "markdown",
   "metadata": {},
   "source": [
    "# *** In the case of py file and txt file's different path/directory:\n",
    "        *** you have to write the path (easy_way --> can copy paste the path) of txt file instead of writing the name of the txt file"
   ]
  },
  {
   "cell_type": "markdown",
   "metadata": {},
   "source": [
    "    *** We have to write as (r'D:\\course\\new folder\\emon.txt'), r --> because python will treat '\\new folder' 's first letter '\\n' as new line(\\n) . so we have to write r (raw) before of the file path. windows computer uses '\\' for path, where linux, mac uses '/' instead "
   ]
  },
  {
   "cell_type": "code",
   "execution_count": 117,
   "metadata": {},
   "outputs": [
    {
     "name": "stdout",
     "output_type": "stream",
     "text": [
      "I am Emon. My brother Efad. We will be happy getting the death of shahada.\n"
     ]
    }
   ],
   "source": [
    "f3 = open(r\"D:\\Downloads\\(1) A. Mahdii_files\\emon.txt\", mode = 'r') \n",
    "\n",
    "print(f3.read())"
   ]
  },
  {
   "cell_type": "code",
   "execution_count": 120,
   "metadata": {},
   "outputs": [
    {
     "name": "stdout",
     "output_type": "stream",
     "text": [
      "I am Emon. My brother Efad. We will be happy getting the death of shahada.\n"
     ]
    }
   ],
   "source": [
    "f3 = open(\"D:\\Downloads\\(1) A. Mahdii_files\\emon.txt\", mode = 'r') \n",
    "                # as there is no \\n (blackslash n) in the file path, r'__\\__\\__.txt' (r before file path) doesn't needed here.\n",
    "print(f3.read())"
   ]
  },
  {
   "cell_type": "code",
   "execution_count": null,
   "metadata": {},
   "outputs": [],
   "source": []
  },
  {
   "cell_type": "markdown",
   "metadata": {},
   "source": [
    "# f, f2, f3 is object but iterable (as objects are iterable too)"
   ]
  },
  {
   "cell_type": "code",
   "execution_count": 122,
   "metadata": {},
   "outputs": [
    {
     "name": "stdout",
     "output_type": "stream",
     "text": [
      "I am Emon.\n",
      "\n",
      "I am a Muslim..\n",
      "\n",
      "I am proud of being servent of Allah...\n"
     ]
    }
   ],
   "source": [
    "f2 = open('file2.txt')\n",
    "\n",
    "for line in f2:\n",
    "    print(line)\n",
    "    \n",
    "f2.close()"
   ]
  },
  {
   "cell_type": "code",
   "execution_count": 123,
   "metadata": {},
   "outputs": [
    {
     "data": {
      "text/plain": [
       "<_io.TextIOWrapper name='D:\\\\Downloads\\\\(1) A. Mahdii_files\\\\emon.txt' mode='r' encoding='cp1252'>"
      ]
     },
     "execution_count": 123,
     "metadata": {},
     "output_type": "execute_result"
    }
   ],
   "source": [
    "f3"
   ]
  },
  {
   "cell_type": "code",
   "execution_count": 131,
   "metadata": {},
   "outputs": [
    {
     "name": "stdout",
     "output_type": "stream",
     "text": [
      "I am Emon.\n",
      "I am a Muslim..\n",
      "I am proud of being servent of Allah...\n"
     ]
    }
   ],
   "source": [
    "f2 = open('file2.txt')\n",
    "\n",
    "print(f2.read())\n",
    "f2.close()"
   ]
  },
  {
   "cell_type": "code",
   "execution_count": 132,
   "metadata": {},
   "outputs": [
    {
     "name": "stdout",
     "output_type": "stream",
     "text": [
      "I am Emon.\n",
      "\n",
      "I am a Muslim..\n",
      "\n",
      "I am proud of being servent of Allah...\n"
     ]
    }
   ],
   "source": [
    "f2 = open('file2.txt')\n",
    "\n",
    "for line in f2.readlines():\n",
    "    print(line)"
   ]
  },
  {
   "cell_type": "code",
   "execution_count": 140,
   "metadata": {},
   "outputs": [
    {
     "name": "stdout",
     "output_type": "stream",
     "text": [
      "I am Emon.\n",
      "\n",
      "I am a Muslim..\n",
      "\n"
     ]
    }
   ],
   "source": [
    "f2 = open('file2.txt')\n",
    "\n",
    "for line in f2.readlines()[:2]:     # usefullness of readlines() method instead of iterating the obj (f2). you can slice in readlines() method as it returns a list of lines\n",
    "    print(line)"
   ]
  },
  {
   "cell_type": "code",
   "execution_count": 1,
   "metadata": {},
   "outputs": [
    {
     "name": "stdout",
     "output_type": "stream",
     "text": [
      "I am Md. Mehedi Hasan, Servent of Allah. I LOVE THE ALMIGHTY ALLAH MOST. Allah is always with the people who is in the honest way, the right way, who always wars against Saitaan. Who serves the oppressed people. Who Will Run On The Right Way Even If The WHOLE WORLD Walks On The Wrong Way.\n"
     ]
    }
   ],
   "source": [
    "with open('file1.txt' , mode='r') as f:\n",
    "    data = f.read()\n",
    "    print(data)"
   ]
  },
  {
   "cell_type": "code",
   "execution_count": 2,
   "metadata": {},
   "outputs": [
    {
     "data": {
      "text/plain": [
       "'I am Md. Mehedi Hasan, Servent of Allah. I LOVE THE ALMIGHTY ALLAH MOST. Allah is always with the people who is in the honest way, the right way, who always wars against Saitaan. Who serves the oppressed people. Who Will Run On The Right Way Even If The WHOLE WORLD Walks On The Wrong Way.'"
      ]
     },
     "execution_count": 2,
     "metadata": {},
     "output_type": "execute_result"
    }
   ],
   "source": [
    "fi = open('file1.txt',mode='r')\n",
    "fi.read()"
   ]
  },
  {
   "cell_type": "code",
   "execution_count": 5,
   "metadata": {},
   "outputs": [
    {
     "name": "stdout",
     "output_type": "stream",
     "text": [
      "I am Emon.\n",
      "I am a Muslim..\n",
      "I am proud of being servent of Allah...\n"
     ]
    }
   ],
   "source": [
    "with open('file2.txt',mode='r') as fi2:\n",
    "#     print(fi2.read())\n",
    "    data = fi2.read()\n",
    "    print(data)"
   ]
  },
  {
   "cell_type": "markdown",
   "metadata": {},
   "source": [
    "# Writing a file/ appending in a file"
   ]
  },
  {
   "cell_type": "markdown",
   "metadata": {},
   "source": [
    "    w mode  = for writing newly in file/ creating a new file and write into               it/writing in an empty file.\n",
    "    \n",
    "    a mode  = appending some text in the last of a file.\n",
    "    \n",
    "    r+ mode = "
   ]
  },
  {
   "cell_type": "code",
   "execution_count": 12,
   "metadata": {},
   "outputs": [
    {
     "name": "stdout",
     "output_type": "stream",
     "text": [
      "O Allah, you are very merciful. Obviously I am a grerat sinner. O Allah, The Most Merciful, please forgive me! Please forgive me Allah.\n"
     ]
    }
   ],
   "source": [
    "with open('file3.txt', mode = 'w') as f:\n",
    "    f.write('O Allah, you are very merciful. Obviously I am a grerat sinner. O Allah, The Most Merciful, please forgive me! Please forgive me Allah.')\n",
    "    \n",
    "    \n",
    "with open('file3.txt', mode= 'r') as f:\n",
    "    print(f.read())"
   ]
  },
  {
   "cell_type": "code",
   "execution_count": 14,
   "metadata": {},
   "outputs": [
    {
     "name": "stdout",
     "output_type": "stream",
     "text": [
      "O Allah, you are very merciful. Obviously I am a grerat sinner. O Allah, The Most Merciful, please forgive me! Please forgive me Allah.And, show me the right wayAnd, show me the right way.\n"
     ]
    }
   ],
   "source": [
    "with open('file3.txt', mode = 'a') as f:\n",
    "    f.write('And, show me the right way.')\n",
    "    \n",
    "    \n",
    "    \n",
    "with open('file3.txt', 'r') as f:\n",
    "    print(f.read())"
   ]
  },
  {
   "cell_type": "code",
   "execution_count": 38,
   "metadata": {
    "scrolled": true
   },
   "outputs": [],
   "source": [
    "with open('file4.txt', mode = 'r+') as f:\n",
    "    f.write('I am Emon.\\nI am a muslim\\n')\n",
    "    f.write('I am Emon.\\nI am a muslim')"
   ]
  },
  {
   "cell_type": "code",
   "execution_count": 36,
   "metadata": {},
   "outputs": [],
   "source": [
    "with open('file5.txt', mode = 'r+') as f:\n",
    "    f.write('I am Emon.\\nI am a muslim')"
   ]
  },
  {
   "cell_type": "code",
   "execution_count": null,
   "metadata": {},
   "outputs": [],
   "source": []
  },
  {
   "cell_type": "code",
   "execution_count": 43,
   "metadata": {},
   "outputs": [],
   "source": [
    "with open('file6.txt', mode = 'r+') as f:\n",
    "    f.seek(len(f.read()))\n",
    "    f.write(' And meat also.')"
   ]
  }
 ],
 "metadata": {
  "kernelspec": {
   "display_name": "Python 3",
   "language": "python",
   "name": "python3"
  },
  "language_info": {
   "codemirror_mode": {
    "name": "ipython",
    "version": 3
   },
   "file_extension": ".py",
   "mimetype": "text/x-python",
   "name": "python",
   "nbconvert_exporter": "python",
   "pygments_lexer": "ipython3",
   "version": "3.7.6"
  }
 },
 "nbformat": 4,
 "nbformat_minor": 4
}
