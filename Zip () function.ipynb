{
 "cells": [
  {
   "cell_type": "code",
   "execution_count": 19,
   "metadata": {},
   "outputs": [
    {
     "name": "stdout",
     "output_type": "stream",
     "text": [
      "[('user1', 'Emon', 'Hasan'), ('user2', 'Efad', 'Hasan'), ('user3', 'Sunny', 'Ahmed'), ('user4', 'Sakib', 'Ahmad')]\n"
     ]
    }
   ],
   "source": [
    "user_id = ['user1' , 'user2' , 'user3' , 'user4' ]\n",
    "name = ['Emon','Efad','Sunny', 'Sakib']\n",
    "last_name = ['Hasan','Hasan','Ahmed','Ahmad']\n",
    "\n",
    "zipped_under_list = list(zip(user_id , name , last_name))\n",
    "print(zipped_under_list)"
   ]
  },
  {
   "cell_type": "code",
   "execution_count": 13,
   "metadata": {},
   "outputs": [
    {
     "name": "stdout",
     "output_type": "stream",
     "text": [
      "{'a': 1, 'b': 2, 'c': 3}\n"
     ]
    }
   ],
   "source": [
    "example = [('a' , 1) , ('b' , 2), ('c' , 3)]\n",
    "print(dict(example))"
   ]
  },
  {
   "cell_type": "code",
   "execution_count": null,
   "metadata": {},
   "outputs": [],
   "source": []
  },
  {
   "cell_type": "code",
   "execution_count": 31,
   "metadata": {},
   "outputs": [
    {
     "name": "stdout",
     "output_type": "stream",
     "text": [
      "[1, 3, 5, 7]\n",
      "[2, 4, 6, 8]\n"
     ]
    }
   ],
   "source": [
    "# l1 = [1,3,5,7]\n",
    "# l2 = [2,4,6,8]\n",
    "\n",
    "l = [(1,2),(3,4),(5,6),(7,8)]\n",
    "# * operator with zip\n",
    "\n",
    "l1 , l2 = list(zip(*l))\n",
    "\n",
    "print(list(l1))\n",
    "print(list(l2))"
   ]
  },
  {
   "cell_type": "code",
   "execution_count": 30,
   "metadata": {},
   "outputs": [
    {
     "name": "stdout",
     "output_type": "stream",
     "text": [
      "1\n",
      "3\n"
     ]
    }
   ],
   "source": [
    "li = [1,3]\n",
    "\n",
    "e1 , e2 = li\n",
    "\n",
    "print(e1)\n",
    "print(e2)\n"
   ]
  },
  {
   "cell_type": "code",
   "execution_count": 33,
   "metadata": {},
   "outputs": [
    {
     "name": "stdout",
     "output_type": "stream",
     "text": [
      "[2, 4, 6, 9]\n"
     ]
    }
   ],
   "source": [
    "l1 = [1,3,5,9]\n",
    "l2 = [2,4,6,8]\n",
    "new_list = []\n",
    "for tuple_pair in zip(l1,l2):\n",
    "    new_list.append(max(tuple_pair))\n",
    "\n",
    "print(new_list)"
   ]
  },
  {
   "cell_type": "code",
   "execution_count": 44,
   "metadata": {},
   "outputs": [
    {
     "name": "stdout",
     "output_type": "stream",
     "text": [
      "[2.0, 3.5]\n"
     ]
    }
   ],
   "source": [
    "def average_finder(l1,l2):\n",
    "    \n",
    "    l = []\n",
    "\n",
    "\n",
    "    for num in range(len(l1)):\n",
    "        l.append(((l1[num]+l2[num])/len([l1,l2])))\n",
    "\n",
    "    return l\n",
    "        \n",
    "print (average_finder([1,2],[3,5]))\n",
    "    "
   ]
  },
  {
   "cell_type": "code",
   "execution_count": 45,
   "metadata": {},
   "outputs": [
    {
     "name": "stdout",
     "output_type": "stream",
     "text": [
      "[2.0, 3.5]\n"
     ]
    }
   ],
   "source": [
    "def average_finder(l1,l2):\n",
    "    \n",
    "    average = []\n",
    "\n",
    "\n",
    "    for num in range(len(l1)):\n",
    "        l.append(((l1[num]+l2[num])/len([l1,l2])))\n",
    "\n",
    "    return average\n",
    "        \n",
    "print (average_finder([1,2],[3,5]))\n",
    "    "
   ]
  },
  {
   "cell_type": "code",
   "execution_count": null,
   "metadata": {},
   "outputs": [],
   "source": []
  },
  {
   "cell_type": "markdown",
   "metadata": {},
   "source": [
    "# average using zip() -----> best and heavy useful strenthening thinking idea"
   ]
  },
  {
   "cell_type": "code",
   "execution_count": 47,
   "metadata": {},
   "outputs": [
    {
     "data": {
      "text/plain": [
       "[2.5, 3.5, 4.5]"
      ]
     },
     "execution_count": 47,
     "metadata": {},
     "output_type": "execute_result"
    }
   ],
   "source": [
    "# [1,2,3] , [4,5,6] , [7,8,9]\n",
    "\n",
    "def average_finder(l1,l2):\n",
    "    average = []\n",
    "    \n",
    "    for pair in zip(l1,l2):\n",
    "        average.append(sum(pair)/len(pair))\n",
    "    return average\n",
    "average_finder([1,2,3] , [4,5,6])"
   ]
  },
  {
   "cell_type": "code",
   "execution_count": 54,
   "metadata": {},
   "outputs": [
    {
     "name": "stdout",
     "output_type": "stream",
     "text": [
      "[5.75, 6.75, 7.75]\n"
     ]
    }
   ],
   "source": [
    "def ave_finder(*args):  \n",
    "    \n",
    "    average = []\n",
    "    for pair in zip(*args):   \n",
    "        average.append((sum(pair)/len(pair)))\n",
    "    return average\n",
    "print(ave_finder([1,2,3] , [4,5,6] , [7,8,9] , [11,12,13]))\n",
    "\n",
    "# args = ([1,2,3],[4,5,6]) \n",
    "# for unpacking this args tuple---> *args   (* this will unpack this arg tuple)"
   ]
  },
  {
   "cell_type": "markdown",
   "metadata": {},
   "source": [
    "# now in 1 line:"
   ]
  },
  {
   "cell_type": "code",
   "execution_count": 58,
   "metadata": {},
   "outputs": [
    {
     "data": {
      "text/plain": [
       "[5.75, 6.75, 7.75]"
      ]
     },
     "execution_count": 58,
     "metadata": {},
     "output_type": "execute_result"
    }
   ],
   "source": [
    "average___finder = lambda *args: [sum(pair)/len(pair)  for pair in zip(*args)]\n",
    "\n",
    "average___finder([1,2,3] , [4,5,6] , [7,8,9] , [11,12,13])"
   ]
  },
  {
   "cell_type": "code",
   "execution_count": null,
   "metadata": {},
   "outputs": [],
   "source": []
  },
  {
   "cell_type": "markdown",
   "metadata": {},
   "source": [
    "# tutorial 159"
   ]
  },
  {
   "cell_type": "code",
   "execution_count": null,
   "metadata": {},
   "outputs": [],
   "source": []
  },
  {
   "cell_type": "code",
   "execution_count": null,
   "metadata": {},
   "outputs": [],
   "source": []
  },
  {
   "cell_type": "code",
   "execution_count": null,
   "metadata": {},
   "outputs": [],
   "source": []
  },
  {
   "cell_type": "code",
   "execution_count": null,
   "metadata": {},
   "outputs": [],
   "source": []
  },
  {
   "cell_type": "code",
   "execution_count": null,
   "metadata": {},
   "outputs": [],
   "source": []
  },
  {
   "cell_type": "code",
   "execution_count": null,
   "metadata": {},
   "outputs": [],
   "source": []
  }
 ],
 "metadata": {
  "kernelspec": {
   "display_name": "Python 3",
   "language": "python",
   "name": "python3"
  },
  "language_info": {
   "codemirror_mode": {
    "name": "ipython",
    "version": 3
   },
   "file_extension": ".py",
   "mimetype": "text/x-python",
   "name": "python",
   "nbconvert_exporter": "python",
   "pygments_lexer": "ipython3",
   "version": "3.7.6"
  }
 },
 "nbformat": 4,
 "nbformat_minor": 4
}
