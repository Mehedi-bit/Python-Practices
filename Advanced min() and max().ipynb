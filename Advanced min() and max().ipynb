{
 "cells": [
  {
   "cell_type": "code",
   "execution_count": 1,
   "metadata": {},
   "outputs": [
    {
     "name": "stdout",
     "output_type": "stream",
     "text": [
      "4\n"
     ]
    }
   ],
   "source": [
    "numbers = [1,2,3,4]\n",
    "print(max(numbers))"
   ]
  },
  {
   "cell_type": "code",
   "execution_count": 14,
   "metadata": {},
   "outputs": [
    {
     "name": "stdout",
     "output_type": "stream",
     "text": [
      "Hasan\n",
      "Meh\n"
     ]
    }
   ],
   "source": [
    "names = ['Meh' , 'Hasan', 'Emon']\n",
    "\n",
    "def func(item_of_names):\n",
    "    return len(item_of_names)\n",
    "\n",
    "\n",
    "print(max(names , key = func))\n",
    "\n",
    "print(min(names , key = func))"
   ]
  },
  {
   "cell_type": "code",
   "execution_count": null,
   "metadata": {},
   "outputs": [],
   "source": []
  },
  {
   "cell_type": "code",
   "execution_count": 15,
   "metadata": {},
   "outputs": [
    {
     "name": "stdout",
     "output_type": "stream",
     "text": [
      "Hasan\n"
     ]
    }
   ],
   "source": [
    "print(max(names , key = lambda item: len(item)))"
   ]
  },
  {
   "cell_type": "code",
   "execution_count": null,
   "metadata": {},
   "outputs": [],
   "source": []
  },
  {
   "cell_type": "code",
   "execution_count": 25,
   "metadata": {},
   "outputs": [
    {
     "name": "stdout",
     "output_type": "stream",
     "text": [
      "{'name': 'Emon', 'score': 90, 'age': 20}\n",
      "Emon\n"
     ]
    }
   ],
   "source": [
    "students2 = [\n",
    "    {'name':'Emon', 'score': 90, 'age': 20},\n",
    "    {'name':'Sammy', 'score': 70, 'age': 24},\n",
    "    {'name':'john', 'score': 60, 'age': 23}\n",
    "]\n",
    "\n",
    "\n",
    "print(max(students2 , key = lambda item: item.get('score')))\n",
    "\n",
    "print(max(students2 , key = lambda item: item.get('score'))['name'])"
   ]
  },
  {
   "cell_type": "code",
   "execution_count": 26,
   "metadata": {},
   "outputs": [
    {
     "name": "stdout",
     "output_type": "stream",
     "text": [
      "Sammy\n"
     ]
    }
   ],
   "source": [
    "print(max(students2 , key = lambda item: item.get('age'))['name'])"
   ]
  },
  {
   "cell_type": "code",
   "execution_count": null,
   "metadata": {},
   "outputs": [],
   "source": []
  },
  {
   "cell_type": "code",
   "execution_count": 32,
   "metadata": {},
   "outputs": [
    {
     "name": "stdout",
     "output_type": "stream",
     "text": [
      "Mehedi\n"
     ]
    }
   ],
   "source": [
    "students = {\n",
    "    'Mehedi' : {'score': 90 , 'age': 21},\n",
    "    'Sammy' : {'score': 75 , 'age': 24},\n",
    "    'jolly' : {'score': 83, 'age': 23}\n",
    "}\n",
    "\n",
    "print(max(students , key = lambda item: students[item]['score'] ))"
   ]
  },
  {
   "cell_type": "code",
   "execution_count": null,
   "metadata": {},
   "outputs": [],
   "source": []
  }
 ],
 "metadata": {
  "kernelspec": {
   "display_name": "Python 3",
   "language": "python",
   "name": "python3"
  },
  "language_info": {
   "codemirror_mode": {
    "name": "ipython",
    "version": 3
   },
   "file_extension": ".py",
   "mimetype": "text/x-python",
   "name": "python",
   "nbconvert_exporter": "python",
   "pygments_lexer": "ipython3",
   "version": "3.7.6"
  }
 },
 "nbformat": 4,
 "nbformat_minor": 4
}
