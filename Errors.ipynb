{
 "cells": [
  {
   "cell_type": "code",
   "execution_count": null,
   "metadata": {},
   "outputs": [],
   "source": []
  },
  {
   "cell_type": "code",
   "execution_count": 1,
   "metadata": {},
   "outputs": [
    {
     "ename": "ValueError",
     "evalue": "invalid literal for int() with base 10: 'abc'",
     "output_type": "error",
     "traceback": [
      "\u001b[1;31m---------------------------------------------------------------------------\u001b[0m",
      "\u001b[1;31mValueError\u001b[0m                                Traceback (most recent call last)",
      "\u001b[1;32m<ipython-input-1-0dec227f246f>\u001b[0m in \u001b[0;36m<module>\u001b[1;34m\u001b[0m\n\u001b[0;32m      2\u001b[0m \u001b[1;33m\u001b[0m\u001b[0m\n\u001b[0;32m      3\u001b[0m \u001b[0ms\u001b[0m \u001b[1;33m=\u001b[0m \u001b[1;34m'abc'\u001b[0m\u001b[1;33m\u001b[0m\u001b[1;33m\u001b[0m\u001b[0m\n\u001b[1;32m----> 4\u001b[1;33m \u001b[0mprint\u001b[0m\u001b[1;33m(\u001b[0m\u001b[0mint\u001b[0m\u001b[1;33m(\u001b[0m\u001b[0ms\u001b[0m\u001b[1;33m)\u001b[0m\u001b[1;33m)\u001b[0m\u001b[1;33m\u001b[0m\u001b[1;33m\u001b[0m\u001b[0m\n\u001b[0m",
      "\u001b[1;31mValueError\u001b[0m: invalid literal for int() with base 10: 'abc'"
     ]
    }
   ],
   "source": [
    "# Value Error\n",
    "\n",
    "s = 'abc'\n",
    "print(int(s))"
   ]
  },
  {
   "cell_type": "code",
   "execution_count": null,
   "metadata": {},
   "outputs": [],
   "source": [
    "# Attribute Error\n",
    "\n",
    "l = [1,2,3]\n",
    "l.push(4)"
   ]
  },
  {
   "cell_type": "code",
   "execution_count": null,
   "metadata": {},
   "outputs": [],
   "source": [
    "# Key Error\n",
    "\n",
    "d = {'name' : 'Emon'}\n",
    "print(d['age'])"
   ]
  },
  {
   "cell_type": "code",
   "execution_count": null,
   "metadata": {},
   "outputs": [],
   "source": [
    "def add(a,b):\n",
    "    if (type(a) is int) and (type(b) is int):\n",
    "        return a+b\n",
    "    raise TypeError('ooops! you are passing wrong datatype..')\n",
    "    \n",
    "print(add(2,'3'))"
   ]
  },
  {
   "cell_type": "code",
   "execution_count": null,
   "metadata": {},
   "outputs": [],
   "source": [
    "# NotImplementedError\n",
    "\n",
    "class Animal:\n",
    "    def __init__(self,name):\n",
    "        self.name = name\n",
    "        \n",
    "    def sound(self):\n",
    "        raise NotImplementedError('you have to define this method in subclasses')\n",
    "    \n",
    "class Dog(Animal):\n",
    "    def __init__(self,name,breed):\n",
    "        super().__init__(name)\n",
    "        self.breed = breed\n",
    "        \n",
    "    def sound(self):\n",
    "        return 'bhaw bhaw'\n",
    "        \n",
    "class Cat(Animal):\n",
    "    def __init__(self,name,breed):\n",
    "        super().__init__(name)\n",
    "        self.breed = breed\n",
    "        \n",
    "    def sound(self):\n",
    "        return 'mew mew' \n",
    "    \n",
    "    \n",
    "doggy = Dog('bonny','pug')\n",
    "\n",
    "doggy.sound()"
   ]
  },
  {
   "cell_type": "code",
   "execution_count": null,
   "metadata": {},
   "outputs": [],
   "source": []
  },
  {
   "cell_type": "code",
   "execution_count": null,
   "metadata": {},
   "outputs": [],
   "source": [
    "# rasie error example 2\n",
    "class Mobile:\n",
    "    def __init__(self,name):\n",
    "        self.name = name\n",
    "        \n",
    "class MobileStore:\n",
    "    def __init__(self):\n",
    "        self.mobiles = []\n",
    "        \n",
    "    def add_mobile(self,new_mobile):\n",
    "        if isinstance(new_mobile , Mobile):\n",
    "            self.mobiles.append(new_mobile)\n",
    "        else:\n",
    "            raise TypeError('new mobile should be object of Mobile class ')\n",
    "oneplus = Mobile('One Plus 6')\n",
    "samsung = 'samsung galaxy s8'\n",
    "Arif_mobostore = MobileStore()\n",
    "\n",
    "# print(Arif_mobostore.mobiles)\n",
    "\n",
    "# Arif_mobostore.add_mobile(samsung)\n",
    "# print(Arif_mobostore.mobiles)\n",
    "\n",
    "Arif_mobostore.add_mobile(oneplus)\n",
    "mobo_phones = Arif_mobostore.mobiles\n",
    "print(mobo_phones[0].name)"
   ]
  },
  {
   "cell_type": "code",
   "execution_count": null,
   "metadata": {},
   "outputs": [],
   "source": []
  },
  {
   "cell_type": "code",
   "execution_count": null,
   "metadata": {},
   "outputs": [],
   "source": [
    "# Exception handling\n",
    "# try, except \n",
    "\n",
    "while True:\n",
    "    try:\n",
    "        age = int(input('enter your age: '))  # seven #\n",
    "        break\n",
    "    except ValueError:\n",
    "        print('Invalid input.. Maybe you entered string instead of number. please try again..')\n",
    "    except:\n",
    "        print('unexpected error.. try again')\n",
    "if age < 18:\n",
    "    print('You can\\'t play this game.')\n",
    "else:\n",
    "    print('You can play this game.')"
   ]
  },
  {
   "cell_type": "code",
   "execution_count": null,
   "metadata": {},
   "outputs": [],
   "source": [
    "# else, finally\n",
    "\n",
    "while True:\n",
    "    try:\n",
    "        age = int(input('enter your age: '))  # seven #\n",
    "        \n",
    "    except ValueError:\n",
    "        print('Invalid input.. Maybe you entered string instead of number. please try again..')\n",
    "    except:\n",
    "        print('unexpected error.. try again')\n",
    "        \n",
    "    else:   # this else block will execute if there is no error, means, if except block doesn't execute. [*** so, else block will execute after try block's successfully execution]\n",
    "        print('user onputed = {}'.format(age))\n",
    "        break\n",
    "    \n",
    "    finally:\n",
    "        print('finaly blocks runs all time whatever something happens or not...')\n",
    "        \n",
    "if age < 18:\n",
    "    print('You can\\'t play this game.')\n",
    "else:\n",
    "    print('You can play this game.')"
   ]
  },
  {
   "cell_type": "code",
   "execution_count": null,
   "metadata": {},
   "outputs": [],
   "source": []
  },
  {
   "cell_type": "code",
   "execution_count": null,
   "metadata": {},
   "outputs": [],
   "source": [
    "while True:\n",
    "\n",
    "    try:\n",
    "        a = int(input('give a number: '))\n",
    "        b = int(input('give a devider: '))\n",
    "    except ValueError:\n",
    "        print('Invalid input. please input numbers only')\n",
    "    else:\n",
    "        if b == 0:\n",
    "            print('please don\\'t devide by 0')\n",
    "            b = int(input('give a devider: '))\n",
    "        break\n",
    "    \n",
    "def devide(a,b):\n",
    "    return a/b\n",
    "\n",
    "print(devide(a,b))"
   ]
  },
  {
   "cell_type": "code",
   "execution_count": null,
   "metadata": {},
   "outputs": [],
   "source": []
  },
  {
   "cell_type": "code",
   "execution_count": null,
   "metadata": {},
   "outputs": [],
   "source": [
    "def devider(a,b):\n",
    "    try:\n",
    "        return a/b\n",
    "    except ZeroDivisionError:\n",
    "        print('you cannot devide a number by zero')\n",
    "    \n",
    "print(devider(10,0))"
   ]
  },
  {
   "cell_type": "code",
   "execution_count": null,
   "metadata": {},
   "outputs": [],
   "source": [
    "def devider(a,b):\n",
    "    try:\n",
    "        return a/b\n",
    "    except ZeroDivisionError as error:\n",
    "#         print('you cannot devide a number by zero')\n",
    "        print(error)\n",
    "    except TypeError as err:\n",
    "        print('numbers must be int or float')\n",
    "    except:\n",
    "        print('unepected error')\n",
    "        \n",
    "print(devider(10,'2'))"
   ]
  },
  {
   "cell_type": "code",
   "execution_count": null,
   "metadata": {},
   "outputs": [],
   "source": []
  },
  {
   "cell_type": "markdown",
   "metadata": {},
   "source": [
    "python custom exceptions\n",
    "\n",
    "Q - Why custom exceptions?\n",
    "\n",
    "A - To increase the readibility of code."
   ]
  },
  {
   "cell_type": "code",
   "execution_count": 8,
   "metadata": {},
   "outputs": [
    {
     "name": "stdout",
     "output_type": "stream",
     "text": [
      "Enter your password: Alabu@#\n"
     ]
    },
    {
     "ename": "Password_TooShort_Error",
     "evalue": "Password is too short",
     "output_type": "error",
     "traceback": [
      "\u001b[1;31m---------------------------------------------------------------------------\u001b[0m",
      "\u001b[1;31mPassword_TooShort_Error\u001b[0m                   Traceback (most recent call last)",
      "\u001b[1;32m<ipython-input-8-1a017b9caa0e>\u001b[0m in \u001b[0;36m<module>\u001b[1;34m\u001b[0m\n\u001b[0;32m      7\u001b[0m \u001b[1;33m\u001b[0m\u001b[0m\n\u001b[0;32m      8\u001b[0m \u001b[0muser_password\u001b[0m \u001b[1;33m=\u001b[0m \u001b[0minput\u001b[0m\u001b[1;33m(\u001b[0m\u001b[1;34m'Enter your password: '\u001b[0m\u001b[1;33m)\u001b[0m\u001b[1;33m\u001b[0m\u001b[1;33m\u001b[0m\u001b[0m\n\u001b[1;32m----> 9\u001b[1;33m \u001b[0mvalidate\u001b[0m\u001b[1;33m(\u001b[0m\u001b[0muser_password\u001b[0m\u001b[1;33m)\u001b[0m\u001b[1;33m\u001b[0m\u001b[1;33m\u001b[0m\u001b[0m\n\u001b[0m\u001b[0;32m     10\u001b[0m \u001b[1;33m\u001b[0m\u001b[0m\n",
      "\u001b[1;32m<ipython-input-8-1a017b9caa0e>\u001b[0m in \u001b[0;36mvalidate\u001b[1;34m(password)\u001b[0m\n\u001b[0;32m      4\u001b[0m \u001b[1;32mdef\u001b[0m \u001b[0mvalidate\u001b[0m\u001b[1;33m(\u001b[0m\u001b[0mpassword\u001b[0m\u001b[1;33m)\u001b[0m\u001b[1;33m:\u001b[0m\u001b[1;33m\u001b[0m\u001b[1;33m\u001b[0m\u001b[0m\n\u001b[0;32m      5\u001b[0m     \u001b[1;32mif\u001b[0m \u001b[0mlen\u001b[0m\u001b[1;33m(\u001b[0m\u001b[0mpassword\u001b[0m\u001b[1;33m)\u001b[0m \u001b[1;33m<\u001b[0m \u001b[1;36m8\u001b[0m\u001b[1;33m:\u001b[0m\u001b[1;33m\u001b[0m\u001b[1;33m\u001b[0m\u001b[0m\n\u001b[1;32m----> 6\u001b[1;33m         \u001b[1;32mraise\u001b[0m \u001b[0mPassword_TooShort_Error\u001b[0m\u001b[1;33m(\u001b[0m\u001b[1;34m'Password is too short'\u001b[0m\u001b[1;33m)\u001b[0m\u001b[1;33m\u001b[0m\u001b[1;33m\u001b[0m\u001b[0m\n\u001b[0m\u001b[0;32m      7\u001b[0m \u001b[1;33m\u001b[0m\u001b[0m\n\u001b[0;32m      8\u001b[0m \u001b[0muser_password\u001b[0m \u001b[1;33m=\u001b[0m \u001b[0minput\u001b[0m\u001b[1;33m(\u001b[0m\u001b[1;34m'Enter your password: '\u001b[0m\u001b[1;33m)\u001b[0m\u001b[1;33m\u001b[0m\u001b[1;33m\u001b[0m\u001b[0m\n",
      "\u001b[1;31mPassword_TooShort_Error\u001b[0m: Password is too short"
     ]
    }
   ],
   "source": [
    "class Password_TooShort_Error(ValueError):\n",
    "    pass\n",
    "\n",
    "def validate(password):\n",
    "    if len(password) < 8:\n",
    "        raise Password_TooShort_Error('Password is too short')\n",
    "        \n",
    "user_password = input('Enter your password: ')\n",
    "validate(user_password)\n",
    "\n"
   ]
  },
  {
   "cell_type": "code",
   "execution_count": null,
   "metadata": {},
   "outputs": [],
   "source": []
  },
  {
   "cell_type": "code",
   "execution_count": null,
   "metadata": {},
   "outputs": [],
   "source": []
  }
 ],
 "metadata": {
  "kernelspec": {
   "display_name": "Python 3",
   "language": "python",
   "name": "python3"
  },
  "language_info": {
   "codemirror_mode": {
    "name": "ipython",
    "version": 3
   },
   "file_extension": ".py",
   "mimetype": "text/x-python",
   "name": "python",
   "nbconvert_exporter": "python",
   "pygments_lexer": "ipython3",
   "version": "3.7.6"
  }
 },
 "nbformat": 4,
 "nbformat_minor": 4
}
