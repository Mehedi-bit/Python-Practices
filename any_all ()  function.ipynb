{
 "cells": [
  {
   "cell_type": "code",
   "execution_count": 15,
   "metadata": {},
   "outputs": [
    {
     "name": "stdout",
     "output_type": "stream",
     "text": [
      "True\n"
     ]
    }
   ],
   "source": [
    "numbers1 = [2,4,6,8,10]\n",
    "numbers2 = [1,2,3,4,5,6]\n",
    "\n",
    "evens1 = []\n",
    "for num in numbers1:\n",
    "    evens1.append(num%2==0)\n",
    "\n",
    "    \n",
    "print(all([True, True, True, True, True]))"
   ]
  },
  {
   "cell_type": "code",
   "execution_count": 13,
   "metadata": {},
   "outputs": [
    {
     "name": "stdout",
     "output_type": "stream",
     "text": [
      "True\n"
     ]
    }
   ],
   "source": [
    "print(all([num%2==0  for num in numbers1 ]))"
   ]
  },
  {
   "cell_type": "code",
   "execution_count": 16,
   "metadata": {},
   "outputs": [
    {
     "name": "stdout",
     "output_type": "stream",
     "text": [
      "False\n"
     ]
    }
   ],
   "source": [
    "print(all([num%2==0  for num in numbers2 ]))"
   ]
  },
  {
   "cell_type": "code",
   "execution_count": 17,
   "metadata": {},
   "outputs": [
    {
     "name": "stdout",
     "output_type": "stream",
     "text": [
      "True\n"
     ]
    }
   ],
   "source": [
    "numbers = [1,3,9,13,11,7,10]\n",
    "\n",
    "print(any([num%2==0  for num in numbers]))"
   ]
  },
  {
   "cell_type": "code",
   "execution_count": 18,
   "metadata": {},
   "outputs": [
    {
     "name": "stdout",
     "output_type": "stream",
     "text": [
      "False\n"
     ]
    }
   ],
   "source": [
    "numbers = [1,3,9,13,11,7]\n",
    "\n",
    "print(any([num%2==0  for num in numbers]))"
   ]
  },
  {
   "cell_type": "code",
   "execution_count": 21,
   "metadata": {},
   "outputs": [
    {
     "name": "stdout",
     "output_type": "stream",
     "text": [
      "46.9\n",
      "Wrong input\n"
     ]
    }
   ],
   "source": [
    "def my_sum(*args):\n",
    "    # user inputed args = (2,4,5) --> tuple()\n",
    "    # user inputed args = 1,2,3,5.4,'emon',['emon']\n",
    "    \n",
    "    if all([(type(arg) == int or type(arg) == float)  for arg in args]):\n",
    "    \n",
    "        total = 0\n",
    "        for num in args:\n",
    "            total += num\n",
    "        return total\n",
    "    else:\n",
    "        return 'Wrong input'\n",
    "    \n",
    "print(my_sum(1,2,3,4,5,6,7,8.9,10.0))\n",
    "print(my_sum(1,2,3,4,5,6,7,8.9,10.0,'jhakanaka'))"
   ]
  },
  {
   "cell_type": "code",
   "execution_count": null,
   "metadata": {},
   "outputs": [],
   "source": []
  }
 ],
 "metadata": {
  "kernelspec": {
   "display_name": "Python 3",
   "language": "python",
   "name": "python3"
  },
  "language_info": {
   "codemirror_mode": {
    "name": "ipython",
    "version": 3
   },
   "file_extension": ".py",
   "mimetype": "text/x-python",
   "name": "python",
   "nbconvert_exporter": "python",
   "pygments_lexer": "ipython3",
   "version": "3.7.6"
  }
 },
 "nbformat": 4,
 "nbformat_minor": 4
}
