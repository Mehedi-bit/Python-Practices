{
 "cells": [
  {
   "cell_type": "markdown",
   "metadata": {},
   "source": [
    "# Decorators with arguments"
   ]
  },
  {
   "cell_type": "code",
   "execution_count": 14,
   "metadata": {},
   "outputs": [
    {
     "name": "stdout",
     "output_type": "stream",
     "text": [
      "Now i do action with only data-type you want..\n",
      "Md.MehediHasanEmon\n"
     ]
    }
   ],
   "source": [
    "from functools import wraps\n",
    "def only_data_type_allow(data_type):\n",
    "    def decorator(function):\n",
    "        @wraps(function)\n",
    "        def wrapper(*args,**kwargs):\n",
    "            print('Now i do action with only data-type you want..')\n",
    "            if all([type(arg)==data_type for arg in args]):\n",
    "                return function(*args,**kwargs)\n",
    "            return(\"Invalid arguments\")\n",
    "        return wrapper\n",
    "    return decorator\n",
    "\n",
    "@only_data_type_allow(str)\n",
    "def string_join(*args):\n",
    "    string = ''\n",
    "    for i in args:\n",
    "        string += i\n",
    "    return string\n",
    "\n",
    "print(string_join('Md.', 'Mehedi', 'Hasan', 'Emon'))"
   ]
  },
  {
   "cell_type": "code",
   "execution_count": 15,
   "metadata": {},
   "outputs": [
    {
     "name": "stdout",
     "output_type": "stream",
     "text": [
      "Now i do action with only data-type you want..\n",
      "10\n"
     ]
    }
   ],
   "source": [
    "@only_data_type_allow(int)\n",
    "def add(*args):\n",
    "    return sum(args)\n",
    "\n",
    "print(add(1,2,3,4))"
   ]
  },
  {
   "cell_type": "code",
   "execution_count": 16,
   "metadata": {},
   "outputs": [
    {
     "name": "stdout",
     "output_type": "stream",
     "text": [
      "Now i do action with only data-type you want..\n",
      "Invalid arguments\n"
     ]
    }
   ],
   "source": [
    "print(add(1,2,3,4,5,'Emon'))"
   ]
  },
  {
   "cell_type": "code",
   "execution_count": null,
   "metadata": {},
   "outputs": [],
   "source": []
  },
  {
   "cell_type": "markdown",
   "metadata": {},
   "source": [
    "# \"\n",
    "# means you can now give any data type you want inside @only_data_type_allow() , and it will do action only for that data_type you given.. e.g. int , float , str etc"
   ]
  },
  {
   "cell_type": "markdown",
   "metadata": {},
   "source": [
    "# this data_type_allow() will take now argumens for instance , this data_type_allow(str) , this data_type_allow(int) , this data_type_allow(float) and it will action for 'str' , 'int' , 'float' only.."
   ]
  },
  {
   "cell_type": "code",
   "execution_count": null,
   "metadata": {},
   "outputs": [],
   "source": []
  }
 ],
 "metadata": {
  "kernelspec": {
   "display_name": "Python 3",
   "language": "python",
   "name": "python3"
  },
  "language_info": {
   "codemirror_mode": {
    "name": "ipython",
    "version": 3
   },
   "file_extension": ".py",
   "mimetype": "text/x-python",
   "name": "python",
   "nbconvert_exporter": "python",
   "pygments_lexer": "ipython3",
   "version": "3.7.6"
  }
 },
 "nbformat": 4,
 "nbformat_minor": 4
}
