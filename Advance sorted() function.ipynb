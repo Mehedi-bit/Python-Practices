{
 "cells": [
  {
   "cell_type": "code",
   "execution_count": 1,
   "metadata": {},
   "outputs": [
    {
     "name": "stdout",
     "output_type": "stream",
     "text": [
      "['apple', 'grapes', 'mango']\n"
     ]
    }
   ],
   "source": [
    "fruits = ['grapes','apple','mango']\n",
    "\n",
    "fruits.sort()\n",
    "\n",
    "print(fruits)"
   ]
  },
  {
   "cell_type": "code",
   "execution_count": 8,
   "metadata": {},
   "outputs": [
    {
     "name": "stdout",
     "output_type": "stream",
     "text": [
      "['apple', 'grapes', 'mango']\n",
      "('grapes', 'apple', 'mango')\n"
     ]
    }
   ],
   "source": [
    "fruits2 = ('grapes','apple','mango')\n",
    "\n",
    "print(sorted(fruits2))\n",
    "\n",
    "print(fruits2)"
   ]
  },
  {
   "cell_type": "code",
   "execution_count": 10,
   "metadata": {},
   "outputs": [
    {
     "name": "stdout",
     "output_type": "stream",
     "text": [
      "['apple', 'grapes', 'mango']\n",
      "{'mango', 'apple', 'grapes'}\n"
     ]
    }
   ],
   "source": [
    "fruits3 = {'grapes','apple','mango'}\n",
    "\n",
    "print(sorted(fruits3))\n",
    "\n",
    "print(fruits3)"
   ]
  },
  {
   "cell_type": "code",
   "execution_count": null,
   "metadata": {},
   "outputs": [],
   "source": []
  },
  {
   "cell_type": "code",
   "execution_count": 9,
   "metadata": {},
   "outputs": [
    {
     "name": "stdout",
     "output_type": "stream",
     "text": [
      "[{'model': 'Hp', 'price': 59000}, {'model': 'ASUS', 'price': 69000}, {'model': 'lenovo', 'price': 70000}, {'model': 'Apple', 'price': 89000}]\n"
     ]
    }
   ],
   "source": [
    "laptops = [\n",
    "    {'model': 'Hp' , 'price' : 59000},\n",
    "    {'model': 'Apple', 'price': 89000},\n",
    "    {'model': 'ASUS', 'price': 69000},\n",
    "    {'model': 'lenovo', 'price': 70000}\n",
    "]\n",
    "\n",
    "print(sorted(laptops , key = lambda d: d['price']))"
   ]
  },
  {
   "cell_type": "code",
   "execution_count": 10,
   "metadata": {},
   "outputs": [
    {
     "name": "stdout",
     "output_type": "stream",
     "text": [
      "[{'model': 'Apple', 'price': 89000}, {'model': 'lenovo', 'price': 70000}, {'model': 'ASUS', 'price': 69000}, {'model': 'Hp', 'price': 59000}]\n"
     ]
    }
   ],
   "source": [
    "print(sorted(laptops , key = lambda d: d['price'], reverse = True))"
   ]
  },
  {
   "cell_type": "code",
   "execution_count": 11,
   "metadata": {},
   "outputs": [
    {
     "name": "stdout",
     "output_type": "stream",
     "text": [
      "[1, 3, 4, 5]\n"
     ]
    }
   ],
   "source": [
    "l = [5,4,3,1]\n",
    "l.sort()\n",
    "print(l)"
   ]
  },
  {
   "cell_type": "code",
   "execution_count": 12,
   "metadata": {},
   "outputs": [
    {
     "name": "stdout",
     "output_type": "stream",
     "text": [
      "[{'model': 'Hp', 'price': 59000}, {'model': 'ASUS', 'price': 69000}, {'model': 'lenovo', 'price': 70000}, {'model': 'Apple', 'price': 89000}]\n"
     ]
    }
   ],
   "source": [
    "sorted_laptops = sorted(laptops , key = lambda d: d['price'])\n",
    "\n",
    "print(sorted_laptops)"
   ]
  },
  {
   "cell_type": "code",
   "execution_count": null,
   "metadata": {},
   "outputs": [],
   "source": []
  }
 ],
 "metadata": {
  "kernelspec": {
   "display_name": "Python 3",
   "language": "python",
   "name": "python3"
  },
  "language_info": {
   "codemirror_mode": {
    "name": "ipython",
    "version": 3
   },
   "file_extension": ".py",
   "mimetype": "text/x-python",
   "name": "python",
   "nbconvert_exporter": "python",
   "pygments_lexer": "ipython3",
   "version": "3.7.6"
  }
 },
 "nbformat": 4,
 "nbformat_minor": 4
}
