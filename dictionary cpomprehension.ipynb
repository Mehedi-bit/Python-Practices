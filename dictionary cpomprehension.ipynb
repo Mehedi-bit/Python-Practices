{
 "cells": [
  {
   "cell_type": "code",
   "execution_count": 3,
   "metadata": {},
   "outputs": [
    {
     "name": "stdout",
     "output_type": "stream",
     "text": [
      "{1: 1, 2: 4, 3: 9}\n"
     ]
    }
   ],
   "source": [
    "sample = {1:1, 2:4, 3:9}\n",
    "\n",
    "dict_comprehen = {num: num**2 for num in range(1,4)}\n",
    "\n",
    "print(dict_comprehen)"
   ]
  },
  {
   "cell_type": "code",
   "execution_count": 17,
   "metadata": {},
   "outputs": [
    {
     "name": "stdout",
     "output_type": "stream",
     "text": [
      "{'square of 1 is': 1, 'square of 2 is': 2, 'square of 3 is': 3, 'square of 4 is': 4, 'square of 5 is': 5}\n"
     ]
    }
   ],
   "source": [
    "square = {f'square of {num} is': num for num in range(1,6) }\n",
    "print(square)"
   ]
  },
  {
   "cell_type": "code",
   "execution_count": 18,
   "metadata": {},
   "outputs": [
    {
     "name": "stdout",
     "output_type": "stream",
     "text": [
      "{'square of 1 is': 1, 'square of 2 is': 2, 'square of 3 is': 3, 'square of 4 is': 4, 'square of 5 is': 5}\n"
     ]
    }
   ],
   "source": [
    "print(square)"
   ]
  },
  {
   "cell_type": "code",
   "execution_count": 27,
   "metadata": {},
   "outputs": [
    {
     "name": "stdout",
     "output_type": "stream",
     "text": [
      "square of 1 is : 1\n",
      "square of 2 is : 2\n",
      "square of 3 is : 3\n",
      "square of 4 is : 4\n",
      "square of 5 is : 5\n"
     ]
    }
   ],
   "source": [
    "for key,value in square.items():\n",
    "    print(f'{key} : {value}')"
   ]
  },
  {
   "cell_type": "code",
   "execution_count": 28,
   "metadata": {},
   "outputs": [
    {
     "name": "stdout",
     "output_type": "stream",
     "text": [
      "{'M': 1, 'e': 2, 'h': 1, 'd': 1, 'i': 1, ' ': 1, 'H': 1, 'a': 2, 's': 1, 'n': 1}\n"
     ]
    }
   ],
   "source": [
    "## Count letter of \"mehedi hasan\" in dictionatry (comprehension)\n",
    "\n",
    "name = 'Mehedi Hasan'\n",
    "letter_counts = {letter : name.count(letter) for letter in name}\n",
    "\n",
    "print(letter_counts)"
   ]
  },
  {
   "cell_type": "code",
   "execution_count": 34,
   "metadata": {},
   "outputs": [
    {
     "name": "stdout",
     "output_type": "stream",
     "text": [
      "{'m': 1, 'e': 2, 'h': 2, 'd': 1, 'i': 1, 'a': 2, 's': 1, 'n': 1}\n"
     ]
    }
   ],
   "source": [
    "name = 'Mehedi Hasan'\n",
    "name = name.lower()\n",
    "letter_count = {letter : name.count(letter) for letter in name}\n",
    "letter_count.pop(' ') ### *** this pop of ' ' key (space key) will remove 'space' counting\n",
    "print(letter_count)"
   ]
  },
  {
   "cell_type": "code",
   "execution_count": 8,
   "metadata": {},
   "outputs": [
    {
     "name": "stdout",
     "output_type": "stream",
     "text": [
      "{1: 'odd', 2: 'even', 3: 'odd', 4: 'even', 5: 'odd', 6: 'even', 7: 'odd', 8: 'even', 9: 'odd', 10: 'even'}\n"
     ]
    }
   ],
   "source": [
    "d = {i: 'odd' if i%2!=0 else 'even' for i in range(1,11)}\n",
    "print(d)"
   ]
  },
  {
   "cell_type": "code",
   "execution_count": 10,
   "metadata": {},
   "outputs": [
    {
     "name": "stdout",
     "output_type": "stream",
     "text": [
      "{1: 'odd', 2: 'even', 3: 'odd', 4: 'even', 5: 'odd', 6: 'even', 7: 'odd', 8: 'even', 9: 'odd'}\n"
     ]
    }
   ],
   "source": [
    "odd_even = { i : ('even' if i%2==0 else 'odd') for i in range(1,10)}\n",
    "print(odd_even)"
   ]
  },
  {
   "cell_type": "code",
   "execution_count": null,
   "metadata": {},
   "outputs": [],
   "source": []
  },
  {
   "cell_type": "code",
   "execution_count": 15,
   "metadata": {},
   "outputs": [
    {
     "name": "stdout",
     "output_type": "stream",
     "text": [
      "{64, 1, 4, 36, 100, 9, 16, 49, 81, 25}\n"
     ]
    }
   ],
   "source": [
    "s = {k**2 for k in range(1,11)}\n",
    "print(s)"
   ]
  },
  {
   "cell_type": "code",
   "execution_count": 19,
   "metadata": {},
   "outputs": [
    {
     "name": "stdout",
     "output_type": "stream",
     "text": [
      "{'M', 'E', 'H'}\n"
     ]
    }
   ],
   "source": [
    "names = ['Mehedi','Hasan','Emon']\n",
    "\n",
    "first = {i[0] for i in names}\n",
    "\n",
    "print(first)"
   ]
  },
  {
   "cell_type": "code",
   "execution_count": 27,
   "metadata": {},
   "outputs": [
    {
     "name": "stdout",
     "output_type": "stream",
     "text": [
      "{'M', 'E', 'H'}\n"
     ]
    }
   ],
   "source": [
    "firsts = {name[0] for name in names}\n",
    "print(firsts)"
   ]
  },
  {
   "cell_type": "code",
   "execution_count": null,
   "metadata": {},
   "outputs": [],
   "source": []
  }
 ],
 "metadata": {
  "kernelspec": {
   "display_name": "Python 3",
   "language": "python",
   "name": "python3"
  },
  "language_info": {
   "codemirror_mode": {
    "name": "ipython",
    "version": 3
   },
   "file_extension": ".py",
   "mimetype": "text/x-python",
   "name": "python",
   "nbconvert_exporter": "python",
   "pygments_lexer": "ipython3",
   "version": "3.7.6"
  }
 },
 "nbformat": 4,
 "nbformat_minor": 4
}
